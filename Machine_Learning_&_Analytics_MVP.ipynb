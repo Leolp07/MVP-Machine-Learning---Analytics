{
  "nbformat": 4,
  "nbformat_minor": 0,
  "metadata": {
    "colab": {
      "provenance": [],
      "toc_visible": true
    },
    "kernelspec": {
      "name": "python3",
      "display_name": "Python 3"
    },
    "language_info": {
      "name": "python"
    }
  },
  "cells": [
    {
      "cell_type": "markdown",
      "source": [
        "# **MVP PUC-Rio - Machine Learning & Analytics**\n",
        "---\n",
        "\n",
        "Aluno: Leonardo José Lopes da Silva\n",
        "\n",
        "Dezembro de 2024"
      ],
      "metadata": {
        "id": "gyRmGNzUTigf"
      }
    },
    {
      "cell_type": "markdown",
      "source": [
        "**OBSERVAÇÃO: Este notebook contém diversos blocos de código com processos de otimização de algoritmos de Machine Learning, os quais podem levar algum tempo para serem concluídos. O tempo estimado para a execução completa do notebook é de aproximadamente 10 a 15 minutos. Todos os blocos de código com tempo de execução elevado foram identificados com uma observação no início.**"
      ],
      "metadata": {
        "id": "9NeYoUDEVCng"
      }
    },
    {
      "cell_type": "markdown",
      "source": [
        "# **1. Objetivos**\n",
        "Este trabalho tem como objetivo exercitar o processo de treinamento e refinamento de um modelo de machine learning utilizando uma base de dados obtida online. O desenvolvimento inclui as etapas de preparação dos dados, construção do modelo e avaliação de seu desempenho. O intuito é aplicar os conceitos de ciência de dados e aprendizado de máquina de forma prática, promovendo uma compreensão mais profunda das técnicas envolvidas e de suas aplicações no tratamento de problemas reais."
      ],
      "metadata": {
        "id": "4kL_InP_T8Hg"
      }
    },
    {
      "cell_type": "markdown",
      "source": [
        "# **2. Dados**\n",
        "A obtenção de dados online é uma etapa essencial em projetos de ciência de dados, pois a qualidade das fontes influencia diretamente a confiabilidade das análises. Ademais, existem diversos repositórios online que disponibilizam datasets com fins educacionais, oferecendo oportunidades valiosas para o estudo e aplicação de técnicas de machine learning. Destaca-se abaixo algumas das plataformas encontradas durante a busca por um dataset de interesse:\n",
        "\n",
        "*   Kaggle (https://www.kaggle.com/)\n",
        "*   UCI Machine Learning Repository (https://archive.ics.uci.edu/)\n",
        "*   Google Dataset Search (https://datasetsearch.research.google.com/)\n",
        "*   Awesome Public Datasets (https://github.com/awesomedata/awesome-public-datasets)\n",
        "\n",
        "Com o intuito de exercitar as habilidades propostas neste trabalho buscou-se um dataset que apresentasse tanto atributos numéricos quanto categóricos, ampliando as possibilidades de pré-processamento e modelagem. Além disso, optou-se por dados relacionados a temas de relevância social, como economia, saúde ou transporte, buscando garantir que os insights gerados pudessem ter impacto nestas áreas."
      ],
      "metadata": {
        "id": "qkTUsdOMT8ce"
      }
    },
    {
      "cell_type": "markdown",
      "source": [
        "## **2.1 Informações sobre o Conjunto de Dados**\n",
        "O conjunto de dados escolhido contém características de pessoas entre 14 e 61 anos de idade, nascidas no México, Peru e Colômbia, assim como informações sobre seus hábitos alimentares e condições físicas. O dataset foi originalmente disponilizado através de um artigo (acessível através do [link](https://www.sciencedirect.com/science/article/pii/S2352340919306985)) cujo intuito é auxiliar e incentivar a criação de ferramentas de machine learning para detectar os níveis de obesidade na população.\n",
        "\n",
        "Com estes dados é possível construir um modelo de classificação, caracterizando um problema de aprendizado supervisionado. O nível de obesidade é determinado a partir do IMC (Índice de Massa Corpórea), que é calculado pela expressão: o peso do indivíduo dividido pelo quadrado de sua altura. Com base nesse cálculo, é possível classificar os indivíduos nas seguintes categorias:\n",
        "\n",
        "*   **Abaixo do peso:** IMC menor que 18,5;\n",
        "*   **Peso normal:** IMC entre 18,5 e 24,9;\n",
        "*   **Sobrepeso grau I:** IMC entre 25 e 26,9;\n",
        "*   **Sobrepeso grau II:** IMC entre 27 e 29,9;\n",
        "*   **Obesidade grau I:** IMC entre 30 e 34,9;\n",
        "*   **Obesidade grau II:** IMC entre 35 e 39,9;\n",
        "*   **Obesidade grau III:** IMC acima de 40;\n",
        "\n",
        "O dataset não contém uma coluna com os valores individuais do IMC. Em vez disso, o IMC foi utilizado para classificar diretamente os indivíduos nas categorias de obesidade, as quais estão representadas como uma variável categórica no conjunto de dados.\n",
        "\n",
        "Por fim, é importante mencionar que, segundo o artigo que originou este dataset, 23% dos dados foram obtidos diretamente por meio de uma pesquisa online com os indivíduos, enquanto 77% dos registros foram gerados artificialmente para completar o conjunto de dados. Embora a maior parte dos dados seja sintética, o propósito do dataset continua válido, permitindo conclusões relevantes sobre o problema da obesidade."
      ],
      "metadata": {
        "id": "f1iGbBJzT8ez"
      }
    },
    {
      "cell_type": "markdown",
      "source": [
        "## **2.2 Fonte**\n",
        "Conforme mencionado, os dados foram originalmente disponibilizados em um artigo científico. No entanto, foram baixados no formato CSV no UCI Machine Learning Repository, um repositório amplamente reconhecido e utilizado para o armazenamento e compartilhamento de conjuntos de dados voltados para a pesquisa em aprendizado de máquina e ciência de dados. O dataset pode ser acessado através do [link](https://archive.ics.uci.edu/dataset/544/estimation+of+obesity+levels+based+on+eating+habits+and+physical+condition)."
      ],
      "metadata": {
        "id": "5IXNvLYPUJnG"
      }
    },
    {
      "cell_type": "markdown",
      "source": [
        "## **2.3 Licença**\n",
        "O conjunto de dados está licenciado sob a licença Creative Commons Attribution 4.0 International (CC BY 4.0). Esta licença permite que os dados sejam compartilhados, adaptados e utilizados para diversos fins, desde que seja atribuído crédito apropriado ao autor original. Os principais pontos dessa licença são:\n",
        "\n",
        "*   **Atribuição:** Deve-se dar crédito ao autor ou criador original dos dados de forma adequada, conforme indicado pela licença.\n",
        "*   **Uso Livre:** É permitido usar os dados para qualquer propósito, inclusive comercial, sem restrições adicionais além da atribuição.\n",
        "*   **Adaptação:** É permitido remixar, transformar e construir sobre os dados, desde que o crédito ao autor original seja mantido.\n",
        "*   **Sem Garantias:** Os dados são fornecidos \"como estão\", sem garantias expressas ou implícitas quanto à precisão ou adequação para um propósito específico."
      ],
      "metadata": {
        "id": "odvjd3pxUJo4"
      }
    },
    {
      "cell_type": "markdown",
      "source": [
        "## **2.4 Dicionário de Dados**\n",
        "O conjunto de dados analisado contém 17 atributos, sendo 8 numéricos e 9 categóricos, que descrevem características físicas, hábitos alimentares e comportamentos de indivíduos. Abaixo estão os detalhes de cada atributo:\n",
        "\n",
        "*   **Gender {categórico binário}:** gênero do indivíduo, podendo assumir os valores \"Male\" ou \"Female\";\n",
        "\n",
        "*   **Age {numérico contínuo}:** idade do indivíduo em anos;\n",
        "\n",
        "*   **Height {numérico contínuo}:** altura do indivíduo em metros;\n",
        "\n",
        "*   **Weight {numérico contínuo}:** peso do indivíduo em quilogramas;\n",
        "\n",
        "*   **family_history_with_overweight {categórico binário}:** indica se o indivíduo possui histórico familiar de obesidade, podendo assumir os valores \"yes\" ou \"no\";\n",
        "\n",
        "*   **Frequent consumption of high caloric food (FAVC) {categórico binário}:** indica a ingestão frequente de alimentos de alta caloria. Pode assumir os valores \"yes\" ou \"no\";\n",
        "\n",
        "*   **Frequency of consumption of vegetables(FCVC) {numérico inteiro}:** indica a frequência de ingestão de vegetais. Pode assumir os valores 1 (Never), 2 (Sometimes) e 3 (Always);\n",
        "\n",
        "*   **Number of main meals (NCP) {numérico inteiro}:** representa a quantitade de refeições diárias do indivíduo. Pode assumir os valores 1, 2, 3 ou 4;\n",
        "\n",
        "*   **Consumption of food between meals (CAEC) {categórico}:** indica a frequência de consumo de alimentos entre as refeições principais. Pode assumir os valores \"No\", \"Sometimes\", \"Frequently\" ou \"Always\"\n",
        "\n",
        "*   **SMOKE {categórico binário}:** indica se o indivíduo é ou não fumante. Pode assumir os valores \"yes\" ou \"no\";\n",
        "\n",
        "*   **Consumption of water daily (CH2O) {numérico contínuo}:** representa a quantidade de água, em litros, que é ingerida diariamente pelo indivíduo.\n",
        "\n",
        "*   **Calories consumption monitoring (SCC) {categórico binário}:** indica se o indivíduo controla/monitora quantas calorias ele consome diariamente. Pode assumir os valores \"yes\" ou \"no\";\n",
        "\n",
        "*   **Physical activity frequency (FAF) {numérico inteiro}:** frequência semanal de realização de atividades físicas.\n",
        "\n",
        "*   **Time using technology devices (TUE) {numérico inteiro}:** representa a quantidade de horas diárias que os indivíduos dedicam ao uso de dispositivos tecnológicos, como celulares, computadores, videogames, entre outros.\n",
        "\n",
        "*   **Consumption of alcohol (CALC) {categórico}:** informa a frequência de consumo de bebidas alcóolicas. Pode assumir os valores \"No\", \"Sometimes\", \"Frequently\" e \"Always\";\n",
        "\n",
        "*   **Transportation used (MTRANS) {categórico}:** meio de transporte comumente utilizado pelo indivíduo. Pode assumir os valores \"Automobile\", \"Motorbike\", \"Bike\", \"Public Transportation\" e \"Walking\".\n",
        "\n",
        "*   **NObeyesdad {categórico}:** indica o nível de obesidade do indivíduo, podendo assumir os valores discutidos na seção 2.1: \"Insufficient_Weight\", \"Normal_Weight\", \"Overweight_Level_I\", \"Overweight_Level_II\", \"Obesity_Type_I\", \"Obesity_Type_II\", \"Obesity_Type_III\"."
      ],
      "metadata": {
        "id": "wNtY3mnEUPFs"
      }
    },
    {
      "cell_type": "markdown",
      "source": [
        "# **3. Configurações Iniciais**\n",
        "\n",
        "Antes de iniciar a preparação dos dados, é fundamental configurar o ambiente de trabalho. Isso envolve a importação das bibliotecas e dependências necessárias para manipulação e treinamento de modelos de machine learning, além da carga do dataset a partir de uma fonte externa.\n",
        "\n",
        "Neste trabalho, os dados foram disponibilizados de forma simples por meio do GitHub, o que facilitou seu acesso e utilização. No entanto, em cenários reais, a obtenção de dados pode envolver operações mais complexas, como conexões com bancos de dados, integração com APIs, ou processamento de arquivos de grande porte, exigindo técnicas avançadas de extração, transformação e carga (ETL). A escolha por uma abordagem simplificada neste caso visa concentrar o foco no treinamento e refinamento do modelo de machine learning, sem desviar a atenção para etapas preliminares de obtenção dos dados."
      ],
      "metadata": {
        "id": "qvZihqIYUvFa"
      }
    },
    {
      "cell_type": "code",
      "source": [
        "# Remoção de avisos\n",
        "import warnings\n",
        "warnings.filterwarnings(\"ignore\")\n",
        "\n",
        "# Importação de bibliotecas/dependências\n",
        "import pandas as pd\n",
        "import numpy as np\n",
        "import matplotlib.pyplot as plt\n",
        "from sklearn.preprocessing import OneHotEncoder\n",
        "from sklearn.preprocessing import OrdinalEncoder\n",
        "from sklearn.model_selection import train_test_split\n",
        "from sklearn.model_selection import KFold\n",
        "from sklearn.model_selection import StratifiedKFold\n",
        "from sklearn.model_selection import cross_val_score\n",
        "from sklearn.model_selection import GridSearchCV\n",
        "from sklearn.pipeline import Pipeline\n",
        "from sklearn.preprocessing import StandardScaler\n",
        "from sklearn.preprocessing import MinMaxScaler\n",
        "from sklearn.metrics import accuracy_score\n",
        "from sklearn.neighbors import KNeighborsClassifier\n",
        "from sklearn.naive_bayes import GaussianNB\n",
        "from sklearn.tree import DecisionTreeClassifier\n",
        "from sklearn.svm import SVC\n",
        "from sklearn.ensemble import BaggingClassifier\n",
        "from sklearn.ensemble import GradientBoostingClassifier\n",
        "from sklearn.ensemble import VotingClassifier\n",
        "\n",
        "# URL público do github para importação dos dados brutos\n",
        "dataURL = \"https://raw.githubusercontent.com/Leolp07/MVP-Machine-Learning-And-Analytics/main/ObesityDataSet_Raw.csv?raw=true\"\n",
        "\n",
        "# Leitura do CSV a partir de uma URL e armazenamento em um DataFrame\n",
        "dataFrame = pd.read_csv(dataURL)"
      ],
      "metadata": {
        "id": "JUGL3s6ZUzXB"
      },
      "execution_count": null,
      "outputs": []
    },
    {
      "cell_type": "markdown",
      "source": [
        "# **4. Preparação dos Dados**\n",
        "\n",
        "Embora o foco deste trabalho seja o treinamento de um modelo de machine learning, é importante reconhecer a relevância das etapas de pré-processamento e análise exploratória dos dados. Estas etapas são frequentemente mais trabalhosas e complexas do que o próprio treinamento do modelo, exigindo um esforço significativo para garantir a qualidade e a adequação dos dados ao problema em questão. Para este trabalho, optou-se por realizar apenas as transformações essenciais, a fim de manter o foco no objetivo principal, sem prejuízo à representatividade dos resultados."
      ],
      "metadata": {
        "id": "XyohXSpwVO6_"
      }
    },
    {
      "cell_type": "markdown",
      "source": [
        "## **4.1 Inspeção do Dataset**"
      ],
      "metadata": {
        "id": "zpaCptePdZ88"
      }
    },
    {
      "cell_type": "code",
      "source": [
        "# Exibição das primeiras 10 linhas do dataset\n",
        "dataFrame.head(10)"
      ],
      "metadata": {
        "colab": {
          "base_uri": "https://localhost:8080/",
          "height": 363
        },
        "id": "nJILmJRDUi6u",
        "outputId": "1846e959-a338-451c-e128-522dd74fc7c1"
      },
      "execution_count": null,
      "outputs": [
        {
          "output_type": "execute_result",
          "data": {
            "text/plain": [
              "   Gender   Age  Height  Weight family_history_with_overweight FAVC  FCVC  \\\n",
              "0  Female  21.0    1.62    64.0                            yes   no   2.0   \n",
              "1  Female  21.0    1.52    56.0                            yes   no   3.0   \n",
              "2    Male  23.0    1.80    77.0                            yes   no   2.0   \n",
              "3    Male  27.0    1.80    87.0                             no   no   3.0   \n",
              "4    Male  22.0    1.78    89.8                             no   no   2.0   \n",
              "5    Male  29.0    1.62    53.0                             no  yes   2.0   \n",
              "6  Female  23.0    1.50    55.0                            yes  yes   3.0   \n",
              "7    Male  22.0    1.64    53.0                             no   no   2.0   \n",
              "8    Male  24.0    1.78    64.0                            yes  yes   3.0   \n",
              "9    Male  22.0    1.72    68.0                            yes  yes   2.0   \n",
              "\n",
              "   NCP       CAEC SMOKE  CH2O  SCC  FAF  TUE        CALC  \\\n",
              "0  3.0  Sometimes    no   2.0   no  0.0  1.0          no   \n",
              "1  3.0  Sometimes   yes   3.0  yes  3.0  0.0   Sometimes   \n",
              "2  3.0  Sometimes    no   2.0   no  2.0  1.0  Frequently   \n",
              "3  3.0  Sometimes    no   2.0   no  2.0  0.0  Frequently   \n",
              "4  1.0  Sometimes    no   2.0   no  0.0  0.0   Sometimes   \n",
              "5  3.0  Sometimes    no   2.0   no  0.0  0.0   Sometimes   \n",
              "6  3.0  Sometimes    no   2.0   no  1.0  0.0   Sometimes   \n",
              "7  3.0  Sometimes    no   2.0   no  3.0  0.0   Sometimes   \n",
              "8  3.0  Sometimes    no   2.0   no  1.0  1.0  Frequently   \n",
              "9  3.0  Sometimes    no   2.0   no  1.0  1.0          no   \n",
              "\n",
              "                  MTRANS           NObeyesdad  \n",
              "0  Public_Transportation        Normal_Weight  \n",
              "1  Public_Transportation        Normal_Weight  \n",
              "2  Public_Transportation        Normal_Weight  \n",
              "3                Walking   Overweight_Level_I  \n",
              "4  Public_Transportation  Overweight_Level_II  \n",
              "5             Automobile        Normal_Weight  \n",
              "6              Motorbike        Normal_Weight  \n",
              "7  Public_Transportation        Normal_Weight  \n",
              "8  Public_Transportation        Normal_Weight  \n",
              "9  Public_Transportation        Normal_Weight  "
            ],
            "text/html": [
              "\n",
              "  <div id=\"df-0e5b457f-64d9-4be7-8d07-f754f8bb3693\" class=\"colab-df-container\">\n",
              "    <div>\n",
              "<style scoped>\n",
              "    .dataframe tbody tr th:only-of-type {\n",
              "        vertical-align: middle;\n",
              "    }\n",
              "\n",
              "    .dataframe tbody tr th {\n",
              "        vertical-align: top;\n",
              "    }\n",
              "\n",
              "    .dataframe thead th {\n",
              "        text-align: right;\n",
              "    }\n",
              "</style>\n",
              "<table border=\"1\" class=\"dataframe\">\n",
              "  <thead>\n",
              "    <tr style=\"text-align: right;\">\n",
              "      <th></th>\n",
              "      <th>Gender</th>\n",
              "      <th>Age</th>\n",
              "      <th>Height</th>\n",
              "      <th>Weight</th>\n",
              "      <th>family_history_with_overweight</th>\n",
              "      <th>FAVC</th>\n",
              "      <th>FCVC</th>\n",
              "      <th>NCP</th>\n",
              "      <th>CAEC</th>\n",
              "      <th>SMOKE</th>\n",
              "      <th>CH2O</th>\n",
              "      <th>SCC</th>\n",
              "      <th>FAF</th>\n",
              "      <th>TUE</th>\n",
              "      <th>CALC</th>\n",
              "      <th>MTRANS</th>\n",
              "      <th>NObeyesdad</th>\n",
              "    </tr>\n",
              "  </thead>\n",
              "  <tbody>\n",
              "    <tr>\n",
              "      <th>0</th>\n",
              "      <td>Female</td>\n",
              "      <td>21.0</td>\n",
              "      <td>1.62</td>\n",
              "      <td>64.0</td>\n",
              "      <td>yes</td>\n",
              "      <td>no</td>\n",
              "      <td>2.0</td>\n",
              "      <td>3.0</td>\n",
              "      <td>Sometimes</td>\n",
              "      <td>no</td>\n",
              "      <td>2.0</td>\n",
              "      <td>no</td>\n",
              "      <td>0.0</td>\n",
              "      <td>1.0</td>\n",
              "      <td>no</td>\n",
              "      <td>Public_Transportation</td>\n",
              "      <td>Normal_Weight</td>\n",
              "    </tr>\n",
              "    <tr>\n",
              "      <th>1</th>\n",
              "      <td>Female</td>\n",
              "      <td>21.0</td>\n",
              "      <td>1.52</td>\n",
              "      <td>56.0</td>\n",
              "      <td>yes</td>\n",
              "      <td>no</td>\n",
              "      <td>3.0</td>\n",
              "      <td>3.0</td>\n",
              "      <td>Sometimes</td>\n",
              "      <td>yes</td>\n",
              "      <td>3.0</td>\n",
              "      <td>yes</td>\n",
              "      <td>3.0</td>\n",
              "      <td>0.0</td>\n",
              "      <td>Sometimes</td>\n",
              "      <td>Public_Transportation</td>\n",
              "      <td>Normal_Weight</td>\n",
              "    </tr>\n",
              "    <tr>\n",
              "      <th>2</th>\n",
              "      <td>Male</td>\n",
              "      <td>23.0</td>\n",
              "      <td>1.80</td>\n",
              "      <td>77.0</td>\n",
              "      <td>yes</td>\n",
              "      <td>no</td>\n",
              "      <td>2.0</td>\n",
              "      <td>3.0</td>\n",
              "      <td>Sometimes</td>\n",
              "      <td>no</td>\n",
              "      <td>2.0</td>\n",
              "      <td>no</td>\n",
              "      <td>2.0</td>\n",
              "      <td>1.0</td>\n",
              "      <td>Frequently</td>\n",
              "      <td>Public_Transportation</td>\n",
              "      <td>Normal_Weight</td>\n",
              "    </tr>\n",
              "    <tr>\n",
              "      <th>3</th>\n",
              "      <td>Male</td>\n",
              "      <td>27.0</td>\n",
              "      <td>1.80</td>\n",
              "      <td>87.0</td>\n",
              "      <td>no</td>\n",
              "      <td>no</td>\n",
              "      <td>3.0</td>\n",
              "      <td>3.0</td>\n",
              "      <td>Sometimes</td>\n",
              "      <td>no</td>\n",
              "      <td>2.0</td>\n",
              "      <td>no</td>\n",
              "      <td>2.0</td>\n",
              "      <td>0.0</td>\n",
              "      <td>Frequently</td>\n",
              "      <td>Walking</td>\n",
              "      <td>Overweight_Level_I</td>\n",
              "    </tr>\n",
              "    <tr>\n",
              "      <th>4</th>\n",
              "      <td>Male</td>\n",
              "      <td>22.0</td>\n",
              "      <td>1.78</td>\n",
              "      <td>89.8</td>\n",
              "      <td>no</td>\n",
              "      <td>no</td>\n",
              "      <td>2.0</td>\n",
              "      <td>1.0</td>\n",
              "      <td>Sometimes</td>\n",
              "      <td>no</td>\n",
              "      <td>2.0</td>\n",
              "      <td>no</td>\n",
              "      <td>0.0</td>\n",
              "      <td>0.0</td>\n",
              "      <td>Sometimes</td>\n",
              "      <td>Public_Transportation</td>\n",
              "      <td>Overweight_Level_II</td>\n",
              "    </tr>\n",
              "    <tr>\n",
              "      <th>5</th>\n",
              "      <td>Male</td>\n",
              "      <td>29.0</td>\n",
              "      <td>1.62</td>\n",
              "      <td>53.0</td>\n",
              "      <td>no</td>\n",
              "      <td>yes</td>\n",
              "      <td>2.0</td>\n",
              "      <td>3.0</td>\n",
              "      <td>Sometimes</td>\n",
              "      <td>no</td>\n",
              "      <td>2.0</td>\n",
              "      <td>no</td>\n",
              "      <td>0.0</td>\n",
              "      <td>0.0</td>\n",
              "      <td>Sometimes</td>\n",
              "      <td>Automobile</td>\n",
              "      <td>Normal_Weight</td>\n",
              "    </tr>\n",
              "    <tr>\n",
              "      <th>6</th>\n",
              "      <td>Female</td>\n",
              "      <td>23.0</td>\n",
              "      <td>1.50</td>\n",
              "      <td>55.0</td>\n",
              "      <td>yes</td>\n",
              "      <td>yes</td>\n",
              "      <td>3.0</td>\n",
              "      <td>3.0</td>\n",
              "      <td>Sometimes</td>\n",
              "      <td>no</td>\n",
              "      <td>2.0</td>\n",
              "      <td>no</td>\n",
              "      <td>1.0</td>\n",
              "      <td>0.0</td>\n",
              "      <td>Sometimes</td>\n",
              "      <td>Motorbike</td>\n",
              "      <td>Normal_Weight</td>\n",
              "    </tr>\n",
              "    <tr>\n",
              "      <th>7</th>\n",
              "      <td>Male</td>\n",
              "      <td>22.0</td>\n",
              "      <td>1.64</td>\n",
              "      <td>53.0</td>\n",
              "      <td>no</td>\n",
              "      <td>no</td>\n",
              "      <td>2.0</td>\n",
              "      <td>3.0</td>\n",
              "      <td>Sometimes</td>\n",
              "      <td>no</td>\n",
              "      <td>2.0</td>\n",
              "      <td>no</td>\n",
              "      <td>3.0</td>\n",
              "      <td>0.0</td>\n",
              "      <td>Sometimes</td>\n",
              "      <td>Public_Transportation</td>\n",
              "      <td>Normal_Weight</td>\n",
              "    </tr>\n",
              "    <tr>\n",
              "      <th>8</th>\n",
              "      <td>Male</td>\n",
              "      <td>24.0</td>\n",
              "      <td>1.78</td>\n",
              "      <td>64.0</td>\n",
              "      <td>yes</td>\n",
              "      <td>yes</td>\n",
              "      <td>3.0</td>\n",
              "      <td>3.0</td>\n",
              "      <td>Sometimes</td>\n",
              "      <td>no</td>\n",
              "      <td>2.0</td>\n",
              "      <td>no</td>\n",
              "      <td>1.0</td>\n",
              "      <td>1.0</td>\n",
              "      <td>Frequently</td>\n",
              "      <td>Public_Transportation</td>\n",
              "      <td>Normal_Weight</td>\n",
              "    </tr>\n",
              "    <tr>\n",
              "      <th>9</th>\n",
              "      <td>Male</td>\n",
              "      <td>22.0</td>\n",
              "      <td>1.72</td>\n",
              "      <td>68.0</td>\n",
              "      <td>yes</td>\n",
              "      <td>yes</td>\n",
              "      <td>2.0</td>\n",
              "      <td>3.0</td>\n",
              "      <td>Sometimes</td>\n",
              "      <td>no</td>\n",
              "      <td>2.0</td>\n",
              "      <td>no</td>\n",
              "      <td>1.0</td>\n",
              "      <td>1.0</td>\n",
              "      <td>no</td>\n",
              "      <td>Public_Transportation</td>\n",
              "      <td>Normal_Weight</td>\n",
              "    </tr>\n",
              "  </tbody>\n",
              "</table>\n",
              "</div>\n",
              "    <div class=\"colab-df-buttons\">\n",
              "\n",
              "  <div class=\"colab-df-container\">\n",
              "    <button class=\"colab-df-convert\" onclick=\"convertToInteractive('df-0e5b457f-64d9-4be7-8d07-f754f8bb3693')\"\n",
              "            title=\"Convert this dataframe to an interactive table.\"\n",
              "            style=\"display:none;\">\n",
              "\n",
              "  <svg xmlns=\"http://www.w3.org/2000/svg\" height=\"24px\" viewBox=\"0 -960 960 960\">\n",
              "    <path d=\"M120-120v-720h720v720H120Zm60-500h600v-160H180v160Zm220 220h160v-160H400v160Zm0 220h160v-160H400v160ZM180-400h160v-160H180v160Zm440 0h160v-160H620v160ZM180-180h160v-160H180v160Zm440 0h160v-160H620v160Z\"/>\n",
              "  </svg>\n",
              "    </button>\n",
              "\n",
              "  <style>\n",
              "    .colab-df-container {\n",
              "      display:flex;\n",
              "      gap: 12px;\n",
              "    }\n",
              "\n",
              "    .colab-df-convert {\n",
              "      background-color: #E8F0FE;\n",
              "      border: none;\n",
              "      border-radius: 50%;\n",
              "      cursor: pointer;\n",
              "      display: none;\n",
              "      fill: #1967D2;\n",
              "      height: 32px;\n",
              "      padding: 0 0 0 0;\n",
              "      width: 32px;\n",
              "    }\n",
              "\n",
              "    .colab-df-convert:hover {\n",
              "      background-color: #E2EBFA;\n",
              "      box-shadow: 0px 1px 2px rgba(60, 64, 67, 0.3), 0px 1px 3px 1px rgba(60, 64, 67, 0.15);\n",
              "      fill: #174EA6;\n",
              "    }\n",
              "\n",
              "    .colab-df-buttons div {\n",
              "      margin-bottom: 4px;\n",
              "    }\n",
              "\n",
              "    [theme=dark] .colab-df-convert {\n",
              "      background-color: #3B4455;\n",
              "      fill: #D2E3FC;\n",
              "    }\n",
              "\n",
              "    [theme=dark] .colab-df-convert:hover {\n",
              "      background-color: #434B5C;\n",
              "      box-shadow: 0px 1px 3px 1px rgba(0, 0, 0, 0.15);\n",
              "      filter: drop-shadow(0px 1px 2px rgba(0, 0, 0, 0.3));\n",
              "      fill: #FFFFFF;\n",
              "    }\n",
              "  </style>\n",
              "\n",
              "    <script>\n",
              "      const buttonEl =\n",
              "        document.querySelector('#df-0e5b457f-64d9-4be7-8d07-f754f8bb3693 button.colab-df-convert');\n",
              "      buttonEl.style.display =\n",
              "        google.colab.kernel.accessAllowed ? 'block' : 'none';\n",
              "\n",
              "      async function convertToInteractive(key) {\n",
              "        const element = document.querySelector('#df-0e5b457f-64d9-4be7-8d07-f754f8bb3693');\n",
              "        const dataTable =\n",
              "          await google.colab.kernel.invokeFunction('convertToInteractive',\n",
              "                                                    [key], {});\n",
              "        if (!dataTable) return;\n",
              "\n",
              "        const docLinkHtml = 'Like what you see? Visit the ' +\n",
              "          '<a target=\"_blank\" href=https://colab.research.google.com/notebooks/data_table.ipynb>data table notebook</a>'\n",
              "          + ' to learn more about interactive tables.';\n",
              "        element.innerHTML = '';\n",
              "        dataTable['output_type'] = 'display_data';\n",
              "        await google.colab.output.renderOutput(dataTable, element);\n",
              "        const docLink = document.createElement('div');\n",
              "        docLink.innerHTML = docLinkHtml;\n",
              "        element.appendChild(docLink);\n",
              "      }\n",
              "    </script>\n",
              "  </div>\n",
              "\n",
              "\n",
              "<div id=\"df-b1a2806b-952b-4e86-9ef7-f66153b84e1b\">\n",
              "  <button class=\"colab-df-quickchart\" onclick=\"quickchart('df-b1a2806b-952b-4e86-9ef7-f66153b84e1b')\"\n",
              "            title=\"Suggest charts\"\n",
              "            style=\"display:none;\">\n",
              "\n",
              "<svg xmlns=\"http://www.w3.org/2000/svg\" height=\"24px\"viewBox=\"0 0 24 24\"\n",
              "     width=\"24px\">\n",
              "    <g>\n",
              "        <path d=\"M19 3H5c-1.1 0-2 .9-2 2v14c0 1.1.9 2 2 2h14c1.1 0 2-.9 2-2V5c0-1.1-.9-2-2-2zM9 17H7v-7h2v7zm4 0h-2V7h2v10zm4 0h-2v-4h2v4z\"/>\n",
              "    </g>\n",
              "</svg>\n",
              "  </button>\n",
              "\n",
              "<style>\n",
              "  .colab-df-quickchart {\n",
              "      --bg-color: #E8F0FE;\n",
              "      --fill-color: #1967D2;\n",
              "      --hover-bg-color: #E2EBFA;\n",
              "      --hover-fill-color: #174EA6;\n",
              "      --disabled-fill-color: #AAA;\n",
              "      --disabled-bg-color: #DDD;\n",
              "  }\n",
              "\n",
              "  [theme=dark] .colab-df-quickchart {\n",
              "      --bg-color: #3B4455;\n",
              "      --fill-color: #D2E3FC;\n",
              "      --hover-bg-color: #434B5C;\n",
              "      --hover-fill-color: #FFFFFF;\n",
              "      --disabled-bg-color: #3B4455;\n",
              "      --disabled-fill-color: #666;\n",
              "  }\n",
              "\n",
              "  .colab-df-quickchart {\n",
              "    background-color: var(--bg-color);\n",
              "    border: none;\n",
              "    border-radius: 50%;\n",
              "    cursor: pointer;\n",
              "    display: none;\n",
              "    fill: var(--fill-color);\n",
              "    height: 32px;\n",
              "    padding: 0;\n",
              "    width: 32px;\n",
              "  }\n",
              "\n",
              "  .colab-df-quickchart:hover {\n",
              "    background-color: var(--hover-bg-color);\n",
              "    box-shadow: 0 1px 2px rgba(60, 64, 67, 0.3), 0 1px 3px 1px rgba(60, 64, 67, 0.15);\n",
              "    fill: var(--button-hover-fill-color);\n",
              "  }\n",
              "\n",
              "  .colab-df-quickchart-complete:disabled,\n",
              "  .colab-df-quickchart-complete:disabled:hover {\n",
              "    background-color: var(--disabled-bg-color);\n",
              "    fill: var(--disabled-fill-color);\n",
              "    box-shadow: none;\n",
              "  }\n",
              "\n",
              "  .colab-df-spinner {\n",
              "    border: 2px solid var(--fill-color);\n",
              "    border-color: transparent;\n",
              "    border-bottom-color: var(--fill-color);\n",
              "    animation:\n",
              "      spin 1s steps(1) infinite;\n",
              "  }\n",
              "\n",
              "  @keyframes spin {\n",
              "    0% {\n",
              "      border-color: transparent;\n",
              "      border-bottom-color: var(--fill-color);\n",
              "      border-left-color: var(--fill-color);\n",
              "    }\n",
              "    20% {\n",
              "      border-color: transparent;\n",
              "      border-left-color: var(--fill-color);\n",
              "      border-top-color: var(--fill-color);\n",
              "    }\n",
              "    30% {\n",
              "      border-color: transparent;\n",
              "      border-left-color: var(--fill-color);\n",
              "      border-top-color: var(--fill-color);\n",
              "      border-right-color: var(--fill-color);\n",
              "    }\n",
              "    40% {\n",
              "      border-color: transparent;\n",
              "      border-right-color: var(--fill-color);\n",
              "      border-top-color: var(--fill-color);\n",
              "    }\n",
              "    60% {\n",
              "      border-color: transparent;\n",
              "      border-right-color: var(--fill-color);\n",
              "    }\n",
              "    80% {\n",
              "      border-color: transparent;\n",
              "      border-right-color: var(--fill-color);\n",
              "      border-bottom-color: var(--fill-color);\n",
              "    }\n",
              "    90% {\n",
              "      border-color: transparent;\n",
              "      border-bottom-color: var(--fill-color);\n",
              "    }\n",
              "  }\n",
              "</style>\n",
              "\n",
              "  <script>\n",
              "    async function quickchart(key) {\n",
              "      const quickchartButtonEl =\n",
              "        document.querySelector('#' + key + ' button');\n",
              "      quickchartButtonEl.disabled = true;  // To prevent multiple clicks.\n",
              "      quickchartButtonEl.classList.add('colab-df-spinner');\n",
              "      try {\n",
              "        const charts = await google.colab.kernel.invokeFunction(\n",
              "            'suggestCharts', [key], {});\n",
              "      } catch (error) {\n",
              "        console.error('Error during call to suggestCharts:', error);\n",
              "      }\n",
              "      quickchartButtonEl.classList.remove('colab-df-spinner');\n",
              "      quickchartButtonEl.classList.add('colab-df-quickchart-complete');\n",
              "    }\n",
              "    (() => {\n",
              "      let quickchartButtonEl =\n",
              "        document.querySelector('#df-b1a2806b-952b-4e86-9ef7-f66153b84e1b button');\n",
              "      quickchartButtonEl.style.display =\n",
              "        google.colab.kernel.accessAllowed ? 'block' : 'none';\n",
              "    })();\n",
              "  </script>\n",
              "</div>\n",
              "\n",
              "    </div>\n",
              "  </div>\n"
            ],
            "application/vnd.google.colaboratory.intrinsic+json": {
              "type": "dataframe",
              "variable_name": "dataFrame",
              "summary": "{\n  \"name\": \"dataFrame\",\n  \"rows\": 2111,\n  \"fields\": [\n    {\n      \"column\": \"Gender\",\n      \"properties\": {\n        \"dtype\": \"category\",\n        \"num_unique_values\": 2,\n        \"samples\": [\n          \"Male\",\n          \"Female\"\n        ],\n        \"semantic_type\": \"\",\n        \"description\": \"\"\n      }\n    },\n    {\n      \"column\": \"Age\",\n      \"properties\": {\n        \"dtype\": \"number\",\n        \"std\": 6.3459682737322405,\n        \"min\": 14.0,\n        \"max\": 61.0,\n        \"num_unique_values\": 1402,\n        \"samples\": [\n          25.526746,\n          26.740655\n        ],\n        \"semantic_type\": \"\",\n        \"description\": \"\"\n      }\n    },\n    {\n      \"column\": \"Height\",\n      \"properties\": {\n        \"dtype\": \"number\",\n        \"std\": 0.09330481986792,\n        \"min\": 1.45,\n        \"max\": 1.98,\n        \"num_unique_values\": 1574,\n        \"samples\": [\n          1.760175,\n          1.688436\n        ],\n        \"semantic_type\": \"\",\n        \"description\": \"\"\n      }\n    },\n    {\n      \"column\": \"Weight\",\n      \"properties\": {\n        \"dtype\": \"number\",\n        \"std\": 26.191171745204688,\n        \"min\": 39.0,\n        \"max\": 173.0,\n        \"num_unique_values\": 1525,\n        \"samples\": [\n          120.702935,\n          64.4\n        ],\n        \"semantic_type\": \"\",\n        \"description\": \"\"\n      }\n    },\n    {\n      \"column\": \"family_history_with_overweight\",\n      \"properties\": {\n        \"dtype\": \"category\",\n        \"num_unique_values\": 2,\n        \"samples\": [\n          \"no\",\n          \"yes\"\n        ],\n        \"semantic_type\": \"\",\n        \"description\": \"\"\n      }\n    },\n    {\n      \"column\": \"FAVC\",\n      \"properties\": {\n        \"dtype\": \"category\",\n        \"num_unique_values\": 2,\n        \"samples\": [\n          \"yes\",\n          \"no\"\n        ],\n        \"semantic_type\": \"\",\n        \"description\": \"\"\n      }\n    },\n    {\n      \"column\": \"FCVC\",\n      \"properties\": {\n        \"dtype\": \"number\",\n        \"std\": 0.5339265785033023,\n        \"min\": 1.0,\n        \"max\": 3.0,\n        \"num_unique_values\": 810,\n        \"samples\": [\n          2.987148,\n          2.939727\n        ],\n        \"semantic_type\": \"\",\n        \"description\": \"\"\n      }\n    },\n    {\n      \"column\": \"NCP\",\n      \"properties\": {\n        \"dtype\": \"number\",\n        \"std\": 0.7780386488418594,\n        \"min\": 1.0,\n        \"max\": 4.0,\n        \"num_unique_values\": 635,\n        \"samples\": [\n          1.468948,\n          2.9948\n        ],\n        \"semantic_type\": \"\",\n        \"description\": \"\"\n      }\n    },\n    {\n      \"column\": \"CAEC\",\n      \"properties\": {\n        \"dtype\": \"category\",\n        \"num_unique_values\": 4,\n        \"samples\": [\n          \"Frequently\",\n          \"no\"\n        ],\n        \"semantic_type\": \"\",\n        \"description\": \"\"\n      }\n    },\n    {\n      \"column\": \"SMOKE\",\n      \"properties\": {\n        \"dtype\": \"category\",\n        \"num_unique_values\": 2,\n        \"samples\": [\n          \"yes\",\n          \"no\"\n        ],\n        \"semantic_type\": \"\",\n        \"description\": \"\"\n      }\n    },\n    {\n      \"column\": \"CH2O\",\n      \"properties\": {\n        \"dtype\": \"number\",\n        \"std\": 0.6129534517968702,\n        \"min\": 1.0,\n        \"max\": 3.0,\n        \"num_unique_values\": 1268,\n        \"samples\": [\n          2.395387,\n          1.983973\n        ],\n        \"semantic_type\": \"\",\n        \"description\": \"\"\n      }\n    },\n    {\n      \"column\": \"SCC\",\n      \"properties\": {\n        \"dtype\": \"category\",\n        \"num_unique_values\": 2,\n        \"samples\": [\n          \"yes\",\n          \"no\"\n        ],\n        \"semantic_type\": \"\",\n        \"description\": \"\"\n      }\n    },\n    {\n      \"column\": \"FAF\",\n      \"properties\": {\n        \"dtype\": \"number\",\n        \"std\": 0.8505924308367011,\n        \"min\": 0.0,\n        \"max\": 3.0,\n        \"num_unique_values\": 1190,\n        \"samples\": [\n          1.655488,\n          2.433918\n        ],\n        \"semantic_type\": \"\",\n        \"description\": \"\"\n      }\n    },\n    {\n      \"column\": \"TUE\",\n      \"properties\": {\n        \"dtype\": \"number\",\n        \"std\": 0.6089272596763761,\n        \"min\": 0.0,\n        \"max\": 2.0,\n        \"num_unique_values\": 1129,\n        \"samples\": [\n          1.416353,\n          0.878258\n        ],\n        \"semantic_type\": \"\",\n        \"description\": \"\"\n      }\n    },\n    {\n      \"column\": \"CALC\",\n      \"properties\": {\n        \"dtype\": \"category\",\n        \"num_unique_values\": 4,\n        \"samples\": [\n          \"Sometimes\",\n          \"Always\"\n        ],\n        \"semantic_type\": \"\",\n        \"description\": \"\"\n      }\n    },\n    {\n      \"column\": \"MTRANS\",\n      \"properties\": {\n        \"dtype\": \"category\",\n        \"num_unique_values\": 5,\n        \"samples\": [\n          \"Walking\",\n          \"Bike\"\n        ],\n        \"semantic_type\": \"\",\n        \"description\": \"\"\n      }\n    },\n    {\n      \"column\": \"NObeyesdad\",\n      \"properties\": {\n        \"dtype\": \"category\",\n        \"num_unique_values\": 7,\n        \"samples\": [\n          \"Normal_Weight\",\n          \"Overweight_Level_I\"\n        ],\n        \"semantic_type\": \"\",\n        \"description\": \"\"\n      }\n    }\n  ]\n}"
            }
          },
          "metadata": {},
          "execution_count": 2
        }
      ]
    },
    {
      "cell_type": "markdown",
      "source": [
        "Ao examinar as informações básicas do dataset por meio do comando **data.info()**, foi constatado que não há valores nulos em nenhuma das colunas. Este é um aspecto positivo, pois permite o aproveitamento integral das entradas do dataset, sem a necessidade de técnicas para lidar com valores ausentes."
      ],
      "metadata": {
        "id": "Uaf7I_apW3fn"
      }
    },
    {
      "cell_type": "code",
      "source": [
        "dataFrame.info()"
      ],
      "metadata": {
        "colab": {
          "base_uri": "https://localhost:8080/"
        },
        "id": "ukkuZIiHW5Jc",
        "outputId": "04e08a0f-73d8-4996-aa2a-85980f7b0979"
      },
      "execution_count": null,
      "outputs": [
        {
          "output_type": "stream",
          "name": "stdout",
          "text": [
            "<class 'pandas.core.frame.DataFrame'>\n",
            "RangeIndex: 2111 entries, 0 to 2110\n",
            "Data columns (total 17 columns):\n",
            " #   Column                          Non-Null Count  Dtype  \n",
            "---  ------                          --------------  -----  \n",
            " 0   Gender                          2111 non-null   object \n",
            " 1   Age                             2111 non-null   float64\n",
            " 2   Height                          2111 non-null   float64\n",
            " 3   Weight                          2111 non-null   float64\n",
            " 4   family_history_with_overweight  2111 non-null   object \n",
            " 5   FAVC                            2111 non-null   object \n",
            " 6   FCVC                            2111 non-null   float64\n",
            " 7   NCP                             2111 non-null   float64\n",
            " 8   CAEC                            2111 non-null   object \n",
            " 9   SMOKE                           2111 non-null   object \n",
            " 10  CH2O                            2111 non-null   float64\n",
            " 11  SCC                             2111 non-null   object \n",
            " 12  FAF                             2111 non-null   float64\n",
            " 13  TUE                             2111 non-null   float64\n",
            " 14  CALC                            2111 non-null   object \n",
            " 15  MTRANS                          2111 non-null   object \n",
            " 16  NObeyesdad                      2111 non-null   object \n",
            "dtypes: float64(8), object(9)\n",
            "memory usage: 280.5+ KB\n"
          ]
        }
      ]
    },
    {
      "cell_type": "markdown",
      "source": [
        "Ao inspecionar as estatísticas gerais dos atributos numéricos, os valores da coluna \"Age\" chamam a atenção, pois 75% dos indivíduos registrados têm 26 anos ou menos, indicando que os dados refletem predominantemente a realidade de uma população mais jovem. Essa concentração em uma faixa etária específica pode representar um desafio na construção de um modelo de classificação, já que o modelo pode não se adequar bem a pessoas mais velhas."
      ],
      "metadata": {
        "id": "19j_E0PhX9SH"
      }
    },
    {
      "cell_type": "code",
      "source": [
        "# Estatísticas gerais dos atributos numéricos\n",
        "numericColumnsDataFrame = dataFrame.select_dtypes(include=\"number\")\n",
        "numericColumnsDataFrame.describe()"
      ],
      "metadata": {
        "colab": {
          "base_uri": "https://localhost:8080/",
          "height": 300
        },
        "id": "JUMNAp29YFcM",
        "outputId": "0396579b-7e57-40f9-9fe8-03f39cff8d6f"
      },
      "execution_count": null,
      "outputs": [
        {
          "output_type": "execute_result",
          "data": {
            "text/plain": [
              "               Age       Height       Weight         FCVC          NCP  \\\n",
              "count  2111.000000  2111.000000  2111.000000  2111.000000  2111.000000   \n",
              "mean     24.312600     1.701677    86.586058     2.419043     2.685628   \n",
              "std       6.345968     0.093305    26.191172     0.533927     0.778039   \n",
              "min      14.000000     1.450000    39.000000     1.000000     1.000000   \n",
              "25%      19.947192     1.630000    65.473343     2.000000     2.658738   \n",
              "50%      22.777890     1.700499    83.000000     2.385502     3.000000   \n",
              "75%      26.000000     1.768464   107.430682     3.000000     3.000000   \n",
              "max      61.000000     1.980000   173.000000     3.000000     4.000000   \n",
              "\n",
              "              CH2O          FAF          TUE  \n",
              "count  2111.000000  2111.000000  2111.000000  \n",
              "mean      2.008011     1.010298     0.657866  \n",
              "std       0.612953     0.850592     0.608927  \n",
              "min       1.000000     0.000000     0.000000  \n",
              "25%       1.584812     0.124505     0.000000  \n",
              "50%       2.000000     1.000000     0.625350  \n",
              "75%       2.477420     1.666678     1.000000  \n",
              "max       3.000000     3.000000     2.000000  "
            ],
            "text/html": [
              "\n",
              "  <div id=\"df-146d53ca-c7c7-41e6-a0c1-59553cb2a7f2\" class=\"colab-df-container\">\n",
              "    <div>\n",
              "<style scoped>\n",
              "    .dataframe tbody tr th:only-of-type {\n",
              "        vertical-align: middle;\n",
              "    }\n",
              "\n",
              "    .dataframe tbody tr th {\n",
              "        vertical-align: top;\n",
              "    }\n",
              "\n",
              "    .dataframe thead th {\n",
              "        text-align: right;\n",
              "    }\n",
              "</style>\n",
              "<table border=\"1\" class=\"dataframe\">\n",
              "  <thead>\n",
              "    <tr style=\"text-align: right;\">\n",
              "      <th></th>\n",
              "      <th>Age</th>\n",
              "      <th>Height</th>\n",
              "      <th>Weight</th>\n",
              "      <th>FCVC</th>\n",
              "      <th>NCP</th>\n",
              "      <th>CH2O</th>\n",
              "      <th>FAF</th>\n",
              "      <th>TUE</th>\n",
              "    </tr>\n",
              "  </thead>\n",
              "  <tbody>\n",
              "    <tr>\n",
              "      <th>count</th>\n",
              "      <td>2111.000000</td>\n",
              "      <td>2111.000000</td>\n",
              "      <td>2111.000000</td>\n",
              "      <td>2111.000000</td>\n",
              "      <td>2111.000000</td>\n",
              "      <td>2111.000000</td>\n",
              "      <td>2111.000000</td>\n",
              "      <td>2111.000000</td>\n",
              "    </tr>\n",
              "    <tr>\n",
              "      <th>mean</th>\n",
              "      <td>24.312600</td>\n",
              "      <td>1.701677</td>\n",
              "      <td>86.586058</td>\n",
              "      <td>2.419043</td>\n",
              "      <td>2.685628</td>\n",
              "      <td>2.008011</td>\n",
              "      <td>1.010298</td>\n",
              "      <td>0.657866</td>\n",
              "    </tr>\n",
              "    <tr>\n",
              "      <th>std</th>\n",
              "      <td>6.345968</td>\n",
              "      <td>0.093305</td>\n",
              "      <td>26.191172</td>\n",
              "      <td>0.533927</td>\n",
              "      <td>0.778039</td>\n",
              "      <td>0.612953</td>\n",
              "      <td>0.850592</td>\n",
              "      <td>0.608927</td>\n",
              "    </tr>\n",
              "    <tr>\n",
              "      <th>min</th>\n",
              "      <td>14.000000</td>\n",
              "      <td>1.450000</td>\n",
              "      <td>39.000000</td>\n",
              "      <td>1.000000</td>\n",
              "      <td>1.000000</td>\n",
              "      <td>1.000000</td>\n",
              "      <td>0.000000</td>\n",
              "      <td>0.000000</td>\n",
              "    </tr>\n",
              "    <tr>\n",
              "      <th>25%</th>\n",
              "      <td>19.947192</td>\n",
              "      <td>1.630000</td>\n",
              "      <td>65.473343</td>\n",
              "      <td>2.000000</td>\n",
              "      <td>2.658738</td>\n",
              "      <td>1.584812</td>\n",
              "      <td>0.124505</td>\n",
              "      <td>0.000000</td>\n",
              "    </tr>\n",
              "    <tr>\n",
              "      <th>50%</th>\n",
              "      <td>22.777890</td>\n",
              "      <td>1.700499</td>\n",
              "      <td>83.000000</td>\n",
              "      <td>2.385502</td>\n",
              "      <td>3.000000</td>\n",
              "      <td>2.000000</td>\n",
              "      <td>1.000000</td>\n",
              "      <td>0.625350</td>\n",
              "    </tr>\n",
              "    <tr>\n",
              "      <th>75%</th>\n",
              "      <td>26.000000</td>\n",
              "      <td>1.768464</td>\n",
              "      <td>107.430682</td>\n",
              "      <td>3.000000</td>\n",
              "      <td>3.000000</td>\n",
              "      <td>2.477420</td>\n",
              "      <td>1.666678</td>\n",
              "      <td>1.000000</td>\n",
              "    </tr>\n",
              "    <tr>\n",
              "      <th>max</th>\n",
              "      <td>61.000000</td>\n",
              "      <td>1.980000</td>\n",
              "      <td>173.000000</td>\n",
              "      <td>3.000000</td>\n",
              "      <td>4.000000</td>\n",
              "      <td>3.000000</td>\n",
              "      <td>3.000000</td>\n",
              "      <td>2.000000</td>\n",
              "    </tr>\n",
              "  </tbody>\n",
              "</table>\n",
              "</div>\n",
              "    <div class=\"colab-df-buttons\">\n",
              "\n",
              "  <div class=\"colab-df-container\">\n",
              "    <button class=\"colab-df-convert\" onclick=\"convertToInteractive('df-146d53ca-c7c7-41e6-a0c1-59553cb2a7f2')\"\n",
              "            title=\"Convert this dataframe to an interactive table.\"\n",
              "            style=\"display:none;\">\n",
              "\n",
              "  <svg xmlns=\"http://www.w3.org/2000/svg\" height=\"24px\" viewBox=\"0 -960 960 960\">\n",
              "    <path d=\"M120-120v-720h720v720H120Zm60-500h600v-160H180v160Zm220 220h160v-160H400v160Zm0 220h160v-160H400v160ZM180-400h160v-160H180v160Zm440 0h160v-160H620v160ZM180-180h160v-160H180v160Zm440 0h160v-160H620v160Z\"/>\n",
              "  </svg>\n",
              "    </button>\n",
              "\n",
              "  <style>\n",
              "    .colab-df-container {\n",
              "      display:flex;\n",
              "      gap: 12px;\n",
              "    }\n",
              "\n",
              "    .colab-df-convert {\n",
              "      background-color: #E8F0FE;\n",
              "      border: none;\n",
              "      border-radius: 50%;\n",
              "      cursor: pointer;\n",
              "      display: none;\n",
              "      fill: #1967D2;\n",
              "      height: 32px;\n",
              "      padding: 0 0 0 0;\n",
              "      width: 32px;\n",
              "    }\n",
              "\n",
              "    .colab-df-convert:hover {\n",
              "      background-color: #E2EBFA;\n",
              "      box-shadow: 0px 1px 2px rgba(60, 64, 67, 0.3), 0px 1px 3px 1px rgba(60, 64, 67, 0.15);\n",
              "      fill: #174EA6;\n",
              "    }\n",
              "\n",
              "    .colab-df-buttons div {\n",
              "      margin-bottom: 4px;\n",
              "    }\n",
              "\n",
              "    [theme=dark] .colab-df-convert {\n",
              "      background-color: #3B4455;\n",
              "      fill: #D2E3FC;\n",
              "    }\n",
              "\n",
              "    [theme=dark] .colab-df-convert:hover {\n",
              "      background-color: #434B5C;\n",
              "      box-shadow: 0px 1px 3px 1px rgba(0, 0, 0, 0.15);\n",
              "      filter: drop-shadow(0px 1px 2px rgba(0, 0, 0, 0.3));\n",
              "      fill: #FFFFFF;\n",
              "    }\n",
              "  </style>\n",
              "\n",
              "    <script>\n",
              "      const buttonEl =\n",
              "        document.querySelector('#df-146d53ca-c7c7-41e6-a0c1-59553cb2a7f2 button.colab-df-convert');\n",
              "      buttonEl.style.display =\n",
              "        google.colab.kernel.accessAllowed ? 'block' : 'none';\n",
              "\n",
              "      async function convertToInteractive(key) {\n",
              "        const element = document.querySelector('#df-146d53ca-c7c7-41e6-a0c1-59553cb2a7f2');\n",
              "        const dataTable =\n",
              "          await google.colab.kernel.invokeFunction('convertToInteractive',\n",
              "                                                    [key], {});\n",
              "        if (!dataTable) return;\n",
              "\n",
              "        const docLinkHtml = 'Like what you see? Visit the ' +\n",
              "          '<a target=\"_blank\" href=https://colab.research.google.com/notebooks/data_table.ipynb>data table notebook</a>'\n",
              "          + ' to learn more about interactive tables.';\n",
              "        element.innerHTML = '';\n",
              "        dataTable['output_type'] = 'display_data';\n",
              "        await google.colab.output.renderOutput(dataTable, element);\n",
              "        const docLink = document.createElement('div');\n",
              "        docLink.innerHTML = docLinkHtml;\n",
              "        element.appendChild(docLink);\n",
              "      }\n",
              "    </script>\n",
              "  </div>\n",
              "\n",
              "\n",
              "<div id=\"df-080468ab-bddc-457c-9116-fb0559585d8e\">\n",
              "  <button class=\"colab-df-quickchart\" onclick=\"quickchart('df-080468ab-bddc-457c-9116-fb0559585d8e')\"\n",
              "            title=\"Suggest charts\"\n",
              "            style=\"display:none;\">\n",
              "\n",
              "<svg xmlns=\"http://www.w3.org/2000/svg\" height=\"24px\"viewBox=\"0 0 24 24\"\n",
              "     width=\"24px\">\n",
              "    <g>\n",
              "        <path d=\"M19 3H5c-1.1 0-2 .9-2 2v14c0 1.1.9 2 2 2h14c1.1 0 2-.9 2-2V5c0-1.1-.9-2-2-2zM9 17H7v-7h2v7zm4 0h-2V7h2v10zm4 0h-2v-4h2v4z\"/>\n",
              "    </g>\n",
              "</svg>\n",
              "  </button>\n",
              "\n",
              "<style>\n",
              "  .colab-df-quickchart {\n",
              "      --bg-color: #E8F0FE;\n",
              "      --fill-color: #1967D2;\n",
              "      --hover-bg-color: #E2EBFA;\n",
              "      --hover-fill-color: #174EA6;\n",
              "      --disabled-fill-color: #AAA;\n",
              "      --disabled-bg-color: #DDD;\n",
              "  }\n",
              "\n",
              "  [theme=dark] .colab-df-quickchart {\n",
              "      --bg-color: #3B4455;\n",
              "      --fill-color: #D2E3FC;\n",
              "      --hover-bg-color: #434B5C;\n",
              "      --hover-fill-color: #FFFFFF;\n",
              "      --disabled-bg-color: #3B4455;\n",
              "      --disabled-fill-color: #666;\n",
              "  }\n",
              "\n",
              "  .colab-df-quickchart {\n",
              "    background-color: var(--bg-color);\n",
              "    border: none;\n",
              "    border-radius: 50%;\n",
              "    cursor: pointer;\n",
              "    display: none;\n",
              "    fill: var(--fill-color);\n",
              "    height: 32px;\n",
              "    padding: 0;\n",
              "    width: 32px;\n",
              "  }\n",
              "\n",
              "  .colab-df-quickchart:hover {\n",
              "    background-color: var(--hover-bg-color);\n",
              "    box-shadow: 0 1px 2px rgba(60, 64, 67, 0.3), 0 1px 3px 1px rgba(60, 64, 67, 0.15);\n",
              "    fill: var(--button-hover-fill-color);\n",
              "  }\n",
              "\n",
              "  .colab-df-quickchart-complete:disabled,\n",
              "  .colab-df-quickchart-complete:disabled:hover {\n",
              "    background-color: var(--disabled-bg-color);\n",
              "    fill: var(--disabled-fill-color);\n",
              "    box-shadow: none;\n",
              "  }\n",
              "\n",
              "  .colab-df-spinner {\n",
              "    border: 2px solid var(--fill-color);\n",
              "    border-color: transparent;\n",
              "    border-bottom-color: var(--fill-color);\n",
              "    animation:\n",
              "      spin 1s steps(1) infinite;\n",
              "  }\n",
              "\n",
              "  @keyframes spin {\n",
              "    0% {\n",
              "      border-color: transparent;\n",
              "      border-bottom-color: var(--fill-color);\n",
              "      border-left-color: var(--fill-color);\n",
              "    }\n",
              "    20% {\n",
              "      border-color: transparent;\n",
              "      border-left-color: var(--fill-color);\n",
              "      border-top-color: var(--fill-color);\n",
              "    }\n",
              "    30% {\n",
              "      border-color: transparent;\n",
              "      border-left-color: var(--fill-color);\n",
              "      border-top-color: var(--fill-color);\n",
              "      border-right-color: var(--fill-color);\n",
              "    }\n",
              "    40% {\n",
              "      border-color: transparent;\n",
              "      border-right-color: var(--fill-color);\n",
              "      border-top-color: var(--fill-color);\n",
              "    }\n",
              "    60% {\n",
              "      border-color: transparent;\n",
              "      border-right-color: var(--fill-color);\n",
              "    }\n",
              "    80% {\n",
              "      border-color: transparent;\n",
              "      border-right-color: var(--fill-color);\n",
              "      border-bottom-color: var(--fill-color);\n",
              "    }\n",
              "    90% {\n",
              "      border-color: transparent;\n",
              "      border-bottom-color: var(--fill-color);\n",
              "    }\n",
              "  }\n",
              "</style>\n",
              "\n",
              "  <script>\n",
              "    async function quickchart(key) {\n",
              "      const quickchartButtonEl =\n",
              "        document.querySelector('#' + key + ' button');\n",
              "      quickchartButtonEl.disabled = true;  // To prevent multiple clicks.\n",
              "      quickchartButtonEl.classList.add('colab-df-spinner');\n",
              "      try {\n",
              "        const charts = await google.colab.kernel.invokeFunction(\n",
              "            'suggestCharts', [key], {});\n",
              "      } catch (error) {\n",
              "        console.error('Error during call to suggestCharts:', error);\n",
              "      }\n",
              "      quickchartButtonEl.classList.remove('colab-df-spinner');\n",
              "      quickchartButtonEl.classList.add('colab-df-quickchart-complete');\n",
              "    }\n",
              "    (() => {\n",
              "      let quickchartButtonEl =\n",
              "        document.querySelector('#df-080468ab-bddc-457c-9116-fb0559585d8e button');\n",
              "      quickchartButtonEl.style.display =\n",
              "        google.colab.kernel.accessAllowed ? 'block' : 'none';\n",
              "    })();\n",
              "  </script>\n",
              "</div>\n",
              "\n",
              "    </div>\n",
              "  </div>\n"
            ],
            "application/vnd.google.colaboratory.intrinsic+json": {
              "type": "dataframe",
              "summary": "{\n  \"name\": \"numericColumnsDataFrame\",\n  \"rows\": 8,\n  \"fields\": [\n    {\n      \"column\": \"Age\",\n      \"properties\": {\n        \"dtype\": \"number\",\n        \"std\": 737.7175023586611,\n        \"min\": 6.3459682737322405,\n        \"max\": 2111.0,\n        \"num_unique_values\": 8,\n        \"samples\": [\n          24.312599908574136,\n          22.77789,\n          2111.0\n        ],\n        \"semantic_type\": \"\",\n        \"description\": \"\"\n      }\n    },\n    {\n      \"column\": \"Height\",\n      \"properties\": {\n        \"dtype\": \"number\",\n        \"std\": 745.8299972253056,\n        \"min\": 0.09330481986792,\n        \"max\": 2111.0,\n        \"num_unique_values\": 8,\n        \"samples\": [\n          1.7016773533870204,\n          1.700499,\n          2111.0\n        ],\n        \"semantic_type\": \"\",\n        \"description\": \"\"\n      }\n    },\n    {\n      \"column\": \"Weight\",\n      \"properties\": {\n        \"dtype\": \"number\",\n        \"std\": 718.4335873262646,\n        \"min\": 26.191171745204688,\n        \"max\": 2111.0,\n        \"num_unique_values\": 8,\n        \"samples\": [\n          86.58605812648035,\n          83.0,\n          2111.0\n        ],\n        \"semantic_type\": \"\",\n        \"description\": \"\"\n      }\n    },\n    {\n      \"column\": \"FCVC\",\n      \"properties\": {\n        \"dtype\": \"number\",\n        \"std\": 745.6275281444425,\n        \"min\": 0.5339265785033023,\n        \"max\": 2111.0,\n        \"num_unique_values\": 7,\n        \"samples\": [\n          2111.0,\n          2.4190430615821885,\n          2.385502\n        ],\n        \"semantic_type\": \"\",\n        \"description\": \"\"\n      }\n    },\n    {\n      \"column\": \"NCP\",\n      \"properties\": {\n        \"dtype\": \"number\",\n        \"std\": 745.4871624512587,\n        \"min\": 0.7780386488418594,\n        \"max\": 2111.0,\n        \"num_unique_values\": 7,\n        \"samples\": [\n          2111.0,\n          2.6856280497394596,\n          3.0\n        ],\n        \"semantic_type\": \"\",\n        \"description\": \"\"\n      }\n    },\n    {\n      \"column\": \"CH2O\",\n      \"properties\": {\n        \"dtype\": \"number\",\n        \"std\": 745.7109998154965,\n        \"min\": 0.6129534517968702,\n        \"max\": 2111.0,\n        \"num_unique_values\": 8,\n        \"samples\": [\n          2.0080114040738986,\n          2.0,\n          2111.0\n        ],\n        \"semantic_type\": \"\",\n        \"description\": \"\"\n      }\n    },\n    {\n      \"column\": \"FAF\",\n      \"properties\": {\n        \"dtype\": \"number\",\n        \"std\": 745.9653105606202,\n        \"min\": 0.0,\n        \"max\": 2111.0,\n        \"num_unique_values\": 8,\n        \"samples\": [\n          1.0102976958787304,\n          1.0,\n          2111.0\n        ],\n        \"semantic_type\": \"\",\n        \"description\": \"\"\n      }\n    },\n    {\n      \"column\": \"TUE\",\n      \"properties\": {\n        \"dtype\": \"number\",\n        \"std\": 746.1043827244515,\n        \"min\": 0.0,\n        \"max\": 2111.0,\n        \"num_unique_values\": 7,\n        \"samples\": [\n          2111.0,\n          0.657865923732828,\n          1.0\n        ],\n        \"semantic_type\": \"\",\n        \"description\": \"\"\n      }\n    }\n  ]\n}"
            }
          },
          "metadata": {},
          "execution_count": 4
        }
      ]
    },
    {
      "cell_type": "markdown",
      "source": [
        "Quanto às estatísticas dos atributos categóricos, destaca-se a grande quantidade de indivíduos não fumantes, conforme indicado pela coluna \"Smoke\", onde aproximadamente 98% (2067) das pessoas registradas não fumam. Esse alto desequilíbrio pode representar um desafio na construção de modelos de machine learning, pois a variável pode não fornecer informações relevantes para a sua construção."
      ],
      "metadata": {
        "id": "UBQtAejfYWl4"
      }
    },
    {
      "cell_type": "code",
      "source": [
        "# Estatísticas gerais dos atributos categóricos\n",
        "categoricColumnsDataFrame = dataFrame.select_dtypes(exclude=\"number\")\n",
        "categoricColumnsDataFrame.describe()"
      ],
      "metadata": {
        "colab": {
          "base_uri": "https://localhost:8080/",
          "height": 175
        },
        "id": "DOwc9_BAYW6C",
        "outputId": "fd6a26a7-8fa6-4af2-bf9a-f8bf2c70ca7e"
      },
      "execution_count": null,
      "outputs": [
        {
          "output_type": "execute_result",
          "data": {
            "text/plain": [
              "       Gender family_history_with_overweight  FAVC       CAEC SMOKE   SCC  \\\n",
              "count    2111                           2111  2111       2111  2111  2111   \n",
              "unique      2                              2     2          4     2     2   \n",
              "top      Male                            yes   yes  Sometimes    no    no   \n",
              "freq     1068                           1726  1866       1765  2067  2015   \n",
              "\n",
              "             CALC                 MTRANS      NObeyesdad  \n",
              "count        2111                   2111            2111  \n",
              "unique          4                      5               7  \n",
              "top     Sometimes  Public_Transportation  Obesity_Type_I  \n",
              "freq         1401                   1580             351  "
            ],
            "text/html": [
              "\n",
              "  <div id=\"df-8e8bf13c-9af4-4c72-8c53-eee7c1cd9cf3\" class=\"colab-df-container\">\n",
              "    <div>\n",
              "<style scoped>\n",
              "    .dataframe tbody tr th:only-of-type {\n",
              "        vertical-align: middle;\n",
              "    }\n",
              "\n",
              "    .dataframe tbody tr th {\n",
              "        vertical-align: top;\n",
              "    }\n",
              "\n",
              "    .dataframe thead th {\n",
              "        text-align: right;\n",
              "    }\n",
              "</style>\n",
              "<table border=\"1\" class=\"dataframe\">\n",
              "  <thead>\n",
              "    <tr style=\"text-align: right;\">\n",
              "      <th></th>\n",
              "      <th>Gender</th>\n",
              "      <th>family_history_with_overweight</th>\n",
              "      <th>FAVC</th>\n",
              "      <th>CAEC</th>\n",
              "      <th>SMOKE</th>\n",
              "      <th>SCC</th>\n",
              "      <th>CALC</th>\n",
              "      <th>MTRANS</th>\n",
              "      <th>NObeyesdad</th>\n",
              "    </tr>\n",
              "  </thead>\n",
              "  <tbody>\n",
              "    <tr>\n",
              "      <th>count</th>\n",
              "      <td>2111</td>\n",
              "      <td>2111</td>\n",
              "      <td>2111</td>\n",
              "      <td>2111</td>\n",
              "      <td>2111</td>\n",
              "      <td>2111</td>\n",
              "      <td>2111</td>\n",
              "      <td>2111</td>\n",
              "      <td>2111</td>\n",
              "    </tr>\n",
              "    <tr>\n",
              "      <th>unique</th>\n",
              "      <td>2</td>\n",
              "      <td>2</td>\n",
              "      <td>2</td>\n",
              "      <td>4</td>\n",
              "      <td>2</td>\n",
              "      <td>2</td>\n",
              "      <td>4</td>\n",
              "      <td>5</td>\n",
              "      <td>7</td>\n",
              "    </tr>\n",
              "    <tr>\n",
              "      <th>top</th>\n",
              "      <td>Male</td>\n",
              "      <td>yes</td>\n",
              "      <td>yes</td>\n",
              "      <td>Sometimes</td>\n",
              "      <td>no</td>\n",
              "      <td>no</td>\n",
              "      <td>Sometimes</td>\n",
              "      <td>Public_Transportation</td>\n",
              "      <td>Obesity_Type_I</td>\n",
              "    </tr>\n",
              "    <tr>\n",
              "      <th>freq</th>\n",
              "      <td>1068</td>\n",
              "      <td>1726</td>\n",
              "      <td>1866</td>\n",
              "      <td>1765</td>\n",
              "      <td>2067</td>\n",
              "      <td>2015</td>\n",
              "      <td>1401</td>\n",
              "      <td>1580</td>\n",
              "      <td>351</td>\n",
              "    </tr>\n",
              "  </tbody>\n",
              "</table>\n",
              "</div>\n",
              "    <div class=\"colab-df-buttons\">\n",
              "\n",
              "  <div class=\"colab-df-container\">\n",
              "    <button class=\"colab-df-convert\" onclick=\"convertToInteractive('df-8e8bf13c-9af4-4c72-8c53-eee7c1cd9cf3')\"\n",
              "            title=\"Convert this dataframe to an interactive table.\"\n",
              "            style=\"display:none;\">\n",
              "\n",
              "  <svg xmlns=\"http://www.w3.org/2000/svg\" height=\"24px\" viewBox=\"0 -960 960 960\">\n",
              "    <path d=\"M120-120v-720h720v720H120Zm60-500h600v-160H180v160Zm220 220h160v-160H400v160Zm0 220h160v-160H400v160ZM180-400h160v-160H180v160Zm440 0h160v-160H620v160ZM180-180h160v-160H180v160Zm440 0h160v-160H620v160Z\"/>\n",
              "  </svg>\n",
              "    </button>\n",
              "\n",
              "  <style>\n",
              "    .colab-df-container {\n",
              "      display:flex;\n",
              "      gap: 12px;\n",
              "    }\n",
              "\n",
              "    .colab-df-convert {\n",
              "      background-color: #E8F0FE;\n",
              "      border: none;\n",
              "      border-radius: 50%;\n",
              "      cursor: pointer;\n",
              "      display: none;\n",
              "      fill: #1967D2;\n",
              "      height: 32px;\n",
              "      padding: 0 0 0 0;\n",
              "      width: 32px;\n",
              "    }\n",
              "\n",
              "    .colab-df-convert:hover {\n",
              "      background-color: #E2EBFA;\n",
              "      box-shadow: 0px 1px 2px rgba(60, 64, 67, 0.3), 0px 1px 3px 1px rgba(60, 64, 67, 0.15);\n",
              "      fill: #174EA6;\n",
              "    }\n",
              "\n",
              "    .colab-df-buttons div {\n",
              "      margin-bottom: 4px;\n",
              "    }\n",
              "\n",
              "    [theme=dark] .colab-df-convert {\n",
              "      background-color: #3B4455;\n",
              "      fill: #D2E3FC;\n",
              "    }\n",
              "\n",
              "    [theme=dark] .colab-df-convert:hover {\n",
              "      background-color: #434B5C;\n",
              "      box-shadow: 0px 1px 3px 1px rgba(0, 0, 0, 0.15);\n",
              "      filter: drop-shadow(0px 1px 2px rgba(0, 0, 0, 0.3));\n",
              "      fill: #FFFFFF;\n",
              "    }\n",
              "  </style>\n",
              "\n",
              "    <script>\n",
              "      const buttonEl =\n",
              "        document.querySelector('#df-8e8bf13c-9af4-4c72-8c53-eee7c1cd9cf3 button.colab-df-convert');\n",
              "      buttonEl.style.display =\n",
              "        google.colab.kernel.accessAllowed ? 'block' : 'none';\n",
              "\n",
              "      async function convertToInteractive(key) {\n",
              "        const element = document.querySelector('#df-8e8bf13c-9af4-4c72-8c53-eee7c1cd9cf3');\n",
              "        const dataTable =\n",
              "          await google.colab.kernel.invokeFunction('convertToInteractive',\n",
              "                                                    [key], {});\n",
              "        if (!dataTable) return;\n",
              "\n",
              "        const docLinkHtml = 'Like what you see? Visit the ' +\n",
              "          '<a target=\"_blank\" href=https://colab.research.google.com/notebooks/data_table.ipynb>data table notebook</a>'\n",
              "          + ' to learn more about interactive tables.';\n",
              "        element.innerHTML = '';\n",
              "        dataTable['output_type'] = 'display_data';\n",
              "        await google.colab.output.renderOutput(dataTable, element);\n",
              "        const docLink = document.createElement('div');\n",
              "        docLink.innerHTML = docLinkHtml;\n",
              "        element.appendChild(docLink);\n",
              "      }\n",
              "    </script>\n",
              "  </div>\n",
              "\n",
              "\n",
              "<div id=\"df-74a5f29a-e023-4ef9-8477-2be50452b5e7\">\n",
              "  <button class=\"colab-df-quickchart\" onclick=\"quickchart('df-74a5f29a-e023-4ef9-8477-2be50452b5e7')\"\n",
              "            title=\"Suggest charts\"\n",
              "            style=\"display:none;\">\n",
              "\n",
              "<svg xmlns=\"http://www.w3.org/2000/svg\" height=\"24px\"viewBox=\"0 0 24 24\"\n",
              "     width=\"24px\">\n",
              "    <g>\n",
              "        <path d=\"M19 3H5c-1.1 0-2 .9-2 2v14c0 1.1.9 2 2 2h14c1.1 0 2-.9 2-2V5c0-1.1-.9-2-2-2zM9 17H7v-7h2v7zm4 0h-2V7h2v10zm4 0h-2v-4h2v4z\"/>\n",
              "    </g>\n",
              "</svg>\n",
              "  </button>\n",
              "\n",
              "<style>\n",
              "  .colab-df-quickchart {\n",
              "      --bg-color: #E8F0FE;\n",
              "      --fill-color: #1967D2;\n",
              "      --hover-bg-color: #E2EBFA;\n",
              "      --hover-fill-color: #174EA6;\n",
              "      --disabled-fill-color: #AAA;\n",
              "      --disabled-bg-color: #DDD;\n",
              "  }\n",
              "\n",
              "  [theme=dark] .colab-df-quickchart {\n",
              "      --bg-color: #3B4455;\n",
              "      --fill-color: #D2E3FC;\n",
              "      --hover-bg-color: #434B5C;\n",
              "      --hover-fill-color: #FFFFFF;\n",
              "      --disabled-bg-color: #3B4455;\n",
              "      --disabled-fill-color: #666;\n",
              "  }\n",
              "\n",
              "  .colab-df-quickchart {\n",
              "    background-color: var(--bg-color);\n",
              "    border: none;\n",
              "    border-radius: 50%;\n",
              "    cursor: pointer;\n",
              "    display: none;\n",
              "    fill: var(--fill-color);\n",
              "    height: 32px;\n",
              "    padding: 0;\n",
              "    width: 32px;\n",
              "  }\n",
              "\n",
              "  .colab-df-quickchart:hover {\n",
              "    background-color: var(--hover-bg-color);\n",
              "    box-shadow: 0 1px 2px rgba(60, 64, 67, 0.3), 0 1px 3px 1px rgba(60, 64, 67, 0.15);\n",
              "    fill: var(--button-hover-fill-color);\n",
              "  }\n",
              "\n",
              "  .colab-df-quickchart-complete:disabled,\n",
              "  .colab-df-quickchart-complete:disabled:hover {\n",
              "    background-color: var(--disabled-bg-color);\n",
              "    fill: var(--disabled-fill-color);\n",
              "    box-shadow: none;\n",
              "  }\n",
              "\n",
              "  .colab-df-spinner {\n",
              "    border: 2px solid var(--fill-color);\n",
              "    border-color: transparent;\n",
              "    border-bottom-color: var(--fill-color);\n",
              "    animation:\n",
              "      spin 1s steps(1) infinite;\n",
              "  }\n",
              "\n",
              "  @keyframes spin {\n",
              "    0% {\n",
              "      border-color: transparent;\n",
              "      border-bottom-color: var(--fill-color);\n",
              "      border-left-color: var(--fill-color);\n",
              "    }\n",
              "    20% {\n",
              "      border-color: transparent;\n",
              "      border-left-color: var(--fill-color);\n",
              "      border-top-color: var(--fill-color);\n",
              "    }\n",
              "    30% {\n",
              "      border-color: transparent;\n",
              "      border-left-color: var(--fill-color);\n",
              "      border-top-color: var(--fill-color);\n",
              "      border-right-color: var(--fill-color);\n",
              "    }\n",
              "    40% {\n",
              "      border-color: transparent;\n",
              "      border-right-color: var(--fill-color);\n",
              "      border-top-color: var(--fill-color);\n",
              "    }\n",
              "    60% {\n",
              "      border-color: transparent;\n",
              "      border-right-color: var(--fill-color);\n",
              "    }\n",
              "    80% {\n",
              "      border-color: transparent;\n",
              "      border-right-color: var(--fill-color);\n",
              "      border-bottom-color: var(--fill-color);\n",
              "    }\n",
              "    90% {\n",
              "      border-color: transparent;\n",
              "      border-bottom-color: var(--fill-color);\n",
              "    }\n",
              "  }\n",
              "</style>\n",
              "\n",
              "  <script>\n",
              "    async function quickchart(key) {\n",
              "      const quickchartButtonEl =\n",
              "        document.querySelector('#' + key + ' button');\n",
              "      quickchartButtonEl.disabled = true;  // To prevent multiple clicks.\n",
              "      quickchartButtonEl.classList.add('colab-df-spinner');\n",
              "      try {\n",
              "        const charts = await google.colab.kernel.invokeFunction(\n",
              "            'suggestCharts', [key], {});\n",
              "      } catch (error) {\n",
              "        console.error('Error during call to suggestCharts:', error);\n",
              "      }\n",
              "      quickchartButtonEl.classList.remove('colab-df-spinner');\n",
              "      quickchartButtonEl.classList.add('colab-df-quickchart-complete');\n",
              "    }\n",
              "    (() => {\n",
              "      let quickchartButtonEl =\n",
              "        document.querySelector('#df-74a5f29a-e023-4ef9-8477-2be50452b5e7 button');\n",
              "      quickchartButtonEl.style.display =\n",
              "        google.colab.kernel.accessAllowed ? 'block' : 'none';\n",
              "    })();\n",
              "  </script>\n",
              "</div>\n",
              "\n",
              "    </div>\n",
              "  </div>\n"
            ],
            "application/vnd.google.colaboratory.intrinsic+json": {
              "type": "dataframe",
              "summary": "{\n  \"name\": \"categoricColumnsDataFrame\",\n  \"rows\": 4,\n  \"fields\": [\n    {\n      \"column\": \"Gender\",\n      \"properties\": {\n        \"dtype\": \"string\",\n        \"num_unique_values\": 4,\n        \"samples\": [\n          2,\n          \"1068\",\n          \"2111\"\n        ],\n        \"semantic_type\": \"\",\n        \"description\": \"\"\n      }\n    },\n    {\n      \"column\": \"family_history_with_overweight\",\n      \"properties\": {\n        \"dtype\": \"string\",\n        \"num_unique_values\": 4,\n        \"samples\": [\n          2,\n          \"1726\",\n          \"2111\"\n        ],\n        \"semantic_type\": \"\",\n        \"description\": \"\"\n      }\n    },\n    {\n      \"column\": \"FAVC\",\n      \"properties\": {\n        \"dtype\": \"string\",\n        \"num_unique_values\": 4,\n        \"samples\": [\n          2,\n          \"1866\",\n          \"2111\"\n        ],\n        \"semantic_type\": \"\",\n        \"description\": \"\"\n      }\n    },\n    {\n      \"column\": \"CAEC\",\n      \"properties\": {\n        \"dtype\": \"string\",\n        \"num_unique_values\": 4,\n        \"samples\": [\n          4,\n          \"1765\",\n          \"2111\"\n        ],\n        \"semantic_type\": \"\",\n        \"description\": \"\"\n      }\n    },\n    {\n      \"column\": \"SMOKE\",\n      \"properties\": {\n        \"dtype\": \"string\",\n        \"num_unique_values\": 4,\n        \"samples\": [\n          2,\n          \"2067\",\n          \"2111\"\n        ],\n        \"semantic_type\": \"\",\n        \"description\": \"\"\n      }\n    },\n    {\n      \"column\": \"SCC\",\n      \"properties\": {\n        \"dtype\": \"string\",\n        \"num_unique_values\": 4,\n        \"samples\": [\n          2,\n          \"2015\",\n          \"2111\"\n        ],\n        \"semantic_type\": \"\",\n        \"description\": \"\"\n      }\n    },\n    {\n      \"column\": \"CALC\",\n      \"properties\": {\n        \"dtype\": \"string\",\n        \"num_unique_values\": 4,\n        \"samples\": [\n          4,\n          \"1401\",\n          \"2111\"\n        ],\n        \"semantic_type\": \"\",\n        \"description\": \"\"\n      }\n    },\n    {\n      \"column\": \"MTRANS\",\n      \"properties\": {\n        \"dtype\": \"string\",\n        \"num_unique_values\": 4,\n        \"samples\": [\n          5,\n          \"1580\",\n          \"2111\"\n        ],\n        \"semantic_type\": \"\",\n        \"description\": \"\"\n      }\n    },\n    {\n      \"column\": \"NObeyesdad\",\n      \"properties\": {\n        \"dtype\": \"string\",\n        \"num_unique_values\": 4,\n        \"samples\": [\n          7,\n          \"351\",\n          \"2111\"\n        ],\n        \"semantic_type\": \"\",\n        \"description\": \"\"\n      }\n    }\n  ]\n}"
            }
          },
          "metadata": {},
          "execution_count": 5
        }
      ]
    },
    {
      "cell_type": "markdown",
      "source": [
        "Ao verificar a distribuição de classes do dataset, constatou-se que as ocorrências das diferentes categorias de obesidade estão bem balanceadas. Esse é um sinal positivo, pois, caso houvesse um desbalanceamento significativo entre as classes, seria necessário adotar cuidados adicionais durante a modelagem."
      ],
      "metadata": {
        "id": "KXxOvxxkDGcb"
      }
    },
    {
      "cell_type": "code",
      "source": [
        "# Contagem de classes\n",
        "class_counts = dataFrame['NObeyesdad'].value_counts()\n",
        "\n",
        "# Gráfico de barras\n",
        "plt.figure(figsize=(12, 8))\n",
        "class_counts.plot(kind='bar', color='blue', edgecolor='black')\n",
        "plt.xlabel(\"Classes de Obesidade\")\n",
        "plt.ylabel(\"Quantidade\")\n",
        "plt.title(\"Distribuição das Classes de Obesidade\")\n",
        "plt.xticks(rotation=45)\n",
        "plt.grid(axis='y', linestyle='--', alpha=0.7)\n",
        "plt.show()"
      ],
      "metadata": {
        "colab": {
          "base_uri": "https://localhost:8080/",
          "height": 812
        },
        "id": "XEPLpEWLDJbh",
        "outputId": "8c24f1dd-61b6-41c7-a703-59aa1188614a"
      },
      "execution_count": null,
      "outputs": [
        {
          "output_type": "display_data",
          "data": {
            "text/plain": [
              "<Figure size 1200x800 with 1 Axes>"
            ],
            "image/png": "[encoded data removed]"
          },
          "metadata": {}
        }
      ]
    },
    {
      "cell_type": "markdown",
      "source": [
        "## 4.2 Preparação no Dataset\n",
        "\n",
        "Para garantir o correto funcionamento e a adequada interpretação dos modelos de machine learning aplicados neste trabalho, as variáveis categóricas do dataset foram transformadas em representações numéricas utilizando dois processos distintos: *One-Hot Encoding* e *Ordinal Encoding*. Para variáveis categóricas binárias, foi aplicado o *One-Hot Encoding*, que converte cada categoria em uma nova coluna binária, facilitando o processamento por algoritmos de aprendizado supervisionado."
      ],
      "metadata": {
        "id": "do8UbWV4diSo"
      }
    },
    {
      "cell_type": "code",
      "source": [
        "# Colunas categóricas binárias do dataset\n",
        "categoricColumns = [\"Gender\",\n",
        "                    \"family_history_with_overweight\",\n",
        "                    \"FAVC\",\n",
        "                    \"SMOKE\",\n",
        "                    \"SCC\",\n",
        "                    \"MTRANS\"]\n",
        "\n",
        "# Instancia o OneHotEncoder (sparse_output=False para retornar um array denso)\n",
        "encoder = OneHotEncoder(sparse_output=False, drop=None)\n",
        "\n",
        "# Ajusta o encoder e transforma os dados categóricos\n",
        "encodedData = encoder.fit_transform(dataFrame[categoricColumns])\n",
        "\n",
        "# Criação de um DataFrame para os dados codificados com os nomes das novas colunas\n",
        "encodedDataFrame = pd.DataFrame(encodedData, columns=encoder.get_feature_names_out(categoricColumns))\n",
        "\n",
        "# Remove as colunas categóricas originais do DataFrame\n",
        "dataFrameWithoutCategoric = dataFrame.drop(categoricColumns, axis=1)\n",
        "\n",
        "# Concatena o DataFrame (sem as colunas categóricas) com o DataFrame codificado\n",
        "MLDataFrame = pd.concat([dataFrameWithoutCategoric.reset_index(drop=True), encodedDataFrame], axis=1)\n",
        "\n",
        "# Display no DataFrame\n",
        "print(MLDataFrame.head(5))"
      ],
      "metadata": {
        "colab": {
          "base_uri": "https://localhost:8080/"
        },
        "id": "O1qG0IgafPOr",
        "outputId": "dbbc0709-5e63-40a4-c137-bf62cefb944a"
      },
      "execution_count": null,
      "outputs": [
        {
          "output_type": "stream",
          "name": "stdout",
          "text": [
            "    Age  Height  Weight  FCVC  NCP       CAEC  CH2O  FAF  TUE        CALC  \\\n",
            "0  21.0    1.62    64.0   2.0  3.0  Sometimes   2.0  0.0  1.0          no   \n",
            "1  21.0    1.52    56.0   3.0  3.0  Sometimes   3.0  3.0  0.0   Sometimes   \n",
            "2  23.0    1.80    77.0   2.0  3.0  Sometimes   2.0  2.0  1.0  Frequently   \n",
            "3  27.0    1.80    87.0   3.0  3.0  Sometimes   2.0  2.0  0.0  Frequently   \n",
            "4  22.0    1.78    89.8   2.0  1.0  Sometimes   2.0  0.0  0.0   Sometimes   \n",
            "\n",
            "   ... FAVC_yes  SMOKE_no  SMOKE_yes  SCC_no  SCC_yes  MTRANS_Automobile  \\\n",
            "0  ...      0.0       1.0        0.0     1.0      0.0                0.0   \n",
            "1  ...      0.0       0.0        1.0     0.0      1.0                0.0   \n",
            "2  ...      0.0       1.0        0.0     1.0      0.0                0.0   \n",
            "3  ...      0.0       1.0        0.0     1.0      0.0                0.0   \n",
            "4  ...      0.0       1.0        0.0     1.0      0.0                0.0   \n",
            "\n",
            "   MTRANS_Bike  MTRANS_Motorbike  MTRANS_Public_Transportation  MTRANS_Walking  \n",
            "0          0.0               0.0                           1.0             0.0  \n",
            "1          0.0               0.0                           1.0             0.0  \n",
            "2          0.0               0.0                           1.0             0.0  \n",
            "3          0.0               0.0                           0.0             1.0  \n",
            "4          0.0               0.0                           1.0             0.0  \n",
            "\n",
            "[5 rows x 26 columns]\n"
          ]
        }
      ]
    },
    {
      "cell_type": "markdown",
      "source": [
        "Em seguida aplicou-se *Ordinal Encoding* sobre todas as variáveis categóricas não binárias do dataset, incluindo a coluna de classes de obesidade. Ao atribuir valores numéricos ordinais, busca-se preservar a ordem natural das categorias, permitindo que os modelos capturem relações mais sutis entre os dados e melhorem a precisão das previsões."
      ],
      "metadata": {
        "id": "r0avKasYm6jG"
      }
    },
    {
      "cell_type": "code",
      "source": [
        "# ====================================\n",
        "# Função geral para OrdinalEncoding\n",
        "# ====================================\n",
        "def EncondeOrdinalColumn(dataFrame, columnName, categoriesOrder):\n",
        "  # Cria uma instância do OrdinalEncoder com a ordem definida\n",
        "  ordinalEncoder = OrdinalEncoder(categories=[categoriesOrder])\n",
        "\n",
        "  # Aplicação do encoding sobre os valores da coluna\n",
        "  encodedColumn = ordinalEncoder.fit_transform(dataFrame[[columnName]])\n",
        "\n",
        "  return encodedColumn"
      ],
      "metadata": {
        "id": "7r2PCrjknBAV"
      },
      "execution_count": null,
      "outputs": []
    },
    {
      "cell_type": "code",
      "source": [
        "# OrdinalEncoding da coluna \"CAEC\"\n",
        "CAEC_Classes = [\"no\", \"Sometimes\", \"Frequently\" ,\"Always\"]\n",
        "MLDataFrame[\"CAEC\"] = EncondeOrdinalColumn(MLDataFrame, \"CAEC\", CAEC_Classes)"
      ],
      "metadata": {
        "id": "hxAir_HynSrn"
      },
      "execution_count": null,
      "outputs": []
    },
    {
      "cell_type": "code",
      "source": [
        "# OrdinalEncoding da coluna \"CALC\"\n",
        "CALC_Classes = [\"no\", \"Sometimes\", \"Frequently\" ,\"Always\"]\n",
        "MLDataFrame[\"CALC\"] = EncondeOrdinalColumn(MLDataFrame, \"CALC\", CALC_Classes)"
      ],
      "metadata": {
        "id": "YEL8EtKtnSVa"
      },
      "execution_count": null,
      "outputs": []
    },
    {
      "cell_type": "code",
      "source": [
        "# OrdinalEncoding da coluna \"NObeyesdad\"\n",
        "obesityClasses = [\"Insufficient_Weight\", \"Normal_Weight\",\"Overweight_Level_I\",\n",
        "                  \"Overweight_Level_II\", \"Obesity_Type_I\", \"Obesity_Type_II\",\n",
        "                  \"Obesity_Type_III\"]\n",
        "\n",
        "MLDataFrame[\"NObeyesdad\"] = EncondeOrdinalColumn(MLDataFrame, \"NObeyesdad\", obesityClasses)\n",
        "\n",
        "# Display no DataFrame\n",
        "print(MLDataFrame.head(5))"
      ],
      "metadata": {
        "colab": {
          "base_uri": "https://localhost:8080/"
        },
        "id": "ADHWWrI_l-ik",
        "outputId": "561c0e53-9efc-4610-f5a1-a46681340eed"
      },
      "execution_count": null,
      "outputs": [
        {
          "output_type": "stream",
          "name": "stdout",
          "text": [
            "    Age  Height  Weight  FCVC  NCP  CAEC  CH2O  FAF  TUE  CALC  ...  FAVC_yes  \\\n",
            "0  21.0    1.62    64.0   2.0  3.0   1.0   2.0  0.0  1.0   0.0  ...       0.0   \n",
            "1  21.0    1.52    56.0   3.0  3.0   1.0   3.0  3.0  0.0   1.0  ...       0.0   \n",
            "2  23.0    1.80    77.0   2.0  3.0   1.0   2.0  2.0  1.0   2.0  ...       0.0   \n",
            "3  27.0    1.80    87.0   3.0  3.0   1.0   2.0  2.0  0.0   2.0  ...       0.0   \n",
            "4  22.0    1.78    89.8   2.0  1.0   1.0   2.0  0.0  0.0   1.0  ...       0.0   \n",
            "\n",
            "   SMOKE_no  SMOKE_yes  SCC_no  SCC_yes  MTRANS_Automobile  MTRANS_Bike  \\\n",
            "0       1.0        0.0     1.0      0.0                0.0          0.0   \n",
            "1       0.0        1.0     0.0      1.0                0.0          0.0   \n",
            "2       1.0        0.0     1.0      0.0                0.0          0.0   \n",
            "3       1.0        0.0     1.0      0.0                0.0          0.0   \n",
            "4       1.0        0.0     1.0      0.0                0.0          0.0   \n",
            "\n",
            "   MTRANS_Motorbike  MTRANS_Public_Transportation  MTRANS_Walking  \n",
            "0               0.0                           1.0             0.0  \n",
            "1               0.0                           1.0             0.0  \n",
            "2               0.0                           1.0             0.0  \n",
            "3               0.0                           0.0             1.0  \n",
            "4               0.0                           1.0             0.0  \n",
            "\n",
            "[5 rows x 26 columns]\n"
          ]
        }
      ]
    },
    {
      "cell_type": "markdown",
      "source": [
        "Por fim relizou-se a divisão do dataset em conjuntos de treino e teste para a fase de modelagem. Foi adotada uma proporção de 75% dos dados para o conjunto de treino e 25% para o conjunto de teste. Esse processo é fundamental para validar a acurácia dos modelos de machine learning, pois permite que o modelo seja treinado em um subconjunto dos dados e testado em outro, garantindo que sua capacidade de generalização seja adequada e não esteja apenas ajustada aos dados de treinamento."
      ],
      "metadata": {
        "id": "x593BQdYAy3G"
      }
    },
    {
      "cell_type": "code",
      "source": [
        "X = MLDataFrame.drop(\"NObeyesdad\", axis=1)\n",
        "Y = MLDataFrame[\"NObeyesdad\"]\n",
        "\n",
        "# Divisão dos dados em conjuntos de treino e teste\n",
        "X_train, X_test, Y_train, Y_test = train_test_split(X, Y, test_size=0.25, random_state=42)\n",
        "\n",
        "# Exibe o tamanho dos conjutos\n",
        "print(\"Tamanho do conjunto de treino:\", X_train.shape)\n",
        "print(\"Tamanho do conjunto de teste:\", X_test.shape)"
      ],
      "metadata": {
        "colab": {
          "base_uri": "https://localhost:8080/"
        },
        "id": "0eP4KjvCBu14",
        "outputId": "34fba83a-02ea-41eb-a59d-e6b07a021659"
      },
      "execution_count": null,
      "outputs": [
        {
          "output_type": "stream",
          "name": "stdout",
          "text": [
            "Tamanho do conjunto de treino: (1583, 25)\n",
            "Tamanho do conjunto de teste: (528, 25)\n"
          ]
        }
      ]
    },
    {
      "cell_type": "markdown",
      "source": [
        "Destaca-se que, idealmente, as transformações *One-Hot Encoding* e *Ordinal Encoding* devem ser feitas antes da divisão do conjunto de dados em treino e teste, para evitar qualquer possibilidade de vazamento de informações. No entanto, como estas operações são determinísticas, optou-se neste trabalho por realizá-las após a divisão."
      ],
      "metadata": {
        "id": "v0F9-OrtjL86"
      }
    },
    {
      "cell_type": "markdown",
      "source": [
        "# **5. Modelagem e Treinamento**\n",
        "\n",
        "Nesta seção, serão apresentados os algoritmos de machine learning selecionados, assim como os ajustes e preparações realizadas no dataset para o treinamento e aprimoramento desses modelos. O objetivo principal é aplicar e comparar quatro algoritmos distintos para identificar o modelo que apresenta o melhor desempenho na tarefa de classificação relacionada ao problema de obesidade. Os algoritmos escolhidos são KNN (K-Nearest Neighbors), Naïve Bayes, SVM (Support Vector Machine) e Árvores de Decisão, cada um deles sendo testado de maneira individual em seções específicas.\n",
        "\n",
        "Para cada um dos algoritmos, serão abordadas suas respectivas etapas de modelagem, treinamento, otimização de hiperparâmetros e análises de resultados. Ao final, será empregada uma abordagem de ensemble para comparar o desempenho dos modelos individuais com uma combinação conjunta, com o intuito de avaliar se essa estratégia pode melhorar a performance preditiva em relação aos modelos isolados.\n",
        "\n",
        "Para todos os modelos foi utilizada a técnica de validação cruzada com 10 *folds* como método para avaliar seu desempenho de forma robusta e generalizável. A validação cruzada é uma prática essencial em machine learning, pois permite utilizar diferentes subconjuntos dos dados durante o treino, reduzindo a possibilidade de *overfitting* e fornecendo uma estimativa mais confiável da performance do modelo."
      ],
      "metadata": {
        "id": "Dt6zqrh1VaYp"
      }
    },
    {
      "cell_type": "code",
      "source": [
        "# Variáveis auxiliares para Modelagem e Treinamento\n",
        "randomSeed = 33\n",
        "numFolds = 10\n",
        "scoringMetric=\"accuracy\"\n",
        "\n",
        "# ================================================\n",
        "# Funções auxiliares para Modelagem e Treinamento\n",
        "# ================================================\n",
        "\n",
        "def GenerateKFolds(numOfFolds, seed):\n",
        "  kFolds = StratifiedKFold(n_splits=numOfFolds, shuffle=True, random_state=seed)\n",
        "  return kFolds\n",
        "\n",
        "\n",
        "def ExecuteCrossValidation(name, model, xTrain, yTrain, numOfFolds, seed):\n",
        "  # Geração dos folds para validação cruzada\n",
        "  kFolds = GenerateKFolds(numOfFolds, seed)\n",
        "\n",
        "  # Execução da validação cruzada do modelo\n",
        "  crossValidationResults = cross_val_score(model, xTrain, yTrain, cv=kFolds, scoring=scoringMetric)\n",
        "\n",
        "  # Display dos resultados\n",
        "  print(\"Modelo %s: Média=%f | Desvio padrão=%f\" % (name, crossValidationResults.mean(), crossValidationResults.std()))\n",
        "\n",
        " # Criação de um boxplot para visualização dos resultados\n",
        "  plt.figure(figsize=(10, 8))\n",
        "  plt.boxplot(crossValidationResults, vert=False, patch_artist=True,\n",
        "                boxprops=dict(facecolor=\"#DDEEFF\", color=\"blue\"),\n",
        "                medianprops=dict(color=\"red\", linewidth=2),\n",
        "                whiskerprops=dict(color=\"blue\"))\n",
        "  plt.title(f\"Distribuição dos Resultados da Validação Cruzada para {name}\")\n",
        "  plt.xlabel(\"Acurácia\")\n",
        "  plt.yticks([])\n",
        "  plt.grid(axis=\"x\", linestyle=\"--\", alpha=0.7)\n",
        "  plt.show()\n",
        "\n",
        "\n",
        "def TrainModel(model, xTrain, yTrain, xTest, yTest):\n",
        "\n",
        "  # Treinamento do modelo\n",
        "  model.fit(xTrain, yTrain)\n",
        "\n",
        "  # Execução da predição e avaliação da acurária\n",
        "  yPrediction = model.predict(xTest)\n",
        "  accuracy = accuracy_score(yTest, yPrediction)\n",
        "\n",
        "  # Display dos resultados\n",
        "  print(\"Acurácia do modelo: \", accuracy)\n",
        "\n"
      ],
      "metadata": {
        "id": "106PWFuEIsv0"
      },
      "execution_count": null,
      "outputs": []
    },
    {
      "cell_type": "markdown",
      "source": [
        "Por fim, destaca-se que a acurárica foi o indicador escolhido para medir a precisão e qualidade dos modelos de machine learning. A escolha da acurácia se justifica por ser a métrica mais comum e amplamente utilizada em problemas de classificação, fornecendo uma visão clara da proporção de previsões corretas realizadas pelo modelo em relação ao total de predições feitas. Esta abordagem permitirá identificar corretamente o modelo com melhor capacidade de generalização."
      ],
      "metadata": {
        "id": "FNdu4vuIMK4J"
      }
    },
    {
      "cell_type": "markdown",
      "source": [
        "## 5.1 Algoritmo KNN\n",
        "\n",
        "O algoritmo KNN (K-Nearest Neighbors) é amplamente utilizado para problemas de classificação devido à sua simplicidade e eficiência. Ele é um método baseado em instâncias, ou seja, para prever a classe de um novo ponto, o KNN analisa as classes dos K vizinhos mais próximos no espaço de atributos.\n",
        "\n",
        "Para garantir o correto funcionamento do algoritmo KNN, foi necessário realizar a normalização dos dados, uma vez que o KNN é sensível a grandes variações entre as escalas das variáveis numéricas. A normalização é uma etapa fundamental para colocar todas as variáveis em uma mesma escala, evitando que atributos com magnitudes maiores dominem a medição da distância entre os pontos."
      ],
      "metadata": {
        "id": "jGH8QcpjfX4j"
      }
    },
    {
      "cell_type": "code",
      "source": [
        "# Aplicação de normalização nos dados\n",
        "standardScaler = StandardScaler()\n",
        "X_train_scaled = standardScaler.fit_transform(X_train)\n",
        "X_test_scaled = standardScaler.transform(X_test)"
      ],
      "metadata": {
        "id": "qnJP24rcSKZP"
      },
      "execution_count": null,
      "outputs": []
    },
    {
      "cell_type": "markdown",
      "source": [
        "É fundamental destacar que, ao realizar a normalização dos dados, essa mesma transformação deve ser aplicada ao conjunto de teste para garantir que ele esteja na mesma escala dos dados de treino. Isso ocorre porque o modelo de machine learning aprende padrões com base nos dados normalizados durante o treinamento. Caso os dados de teste não passem pelo mesmo processo, o modelo pode interpretar os valores em escalas distintas, comprometendo a avaliação de desempenho.\n"
      ],
      "metadata": {
        "id": "Ox8n2ZTXVxMb"
      }
    },
    {
      "cell_type": "code",
      "source": [
        "# Criação do modelo KNN (utilizando o valor padrão n_neighbors=5)\n",
        "KNN_model = KNeighborsClassifier()\n",
        "\n",
        "# Validação cruzada\n",
        "ExecuteCrossValidation(\"KNN\", KNN_model, X_train_scaled, Y_train, numFolds, randomSeed)\n",
        "\n",
        "# Treinamento do modelo\n",
        "TrainModel(KNN_model, X_train_scaled, Y_train, X_test_scaled, Y_test)"
      ],
      "metadata": {
        "colab": {
          "base_uri": "https://localhost:8080/",
          "height": 753
        },
        "id": "QAic_NH3WlBB",
        "outputId": "412dd090-c680-4e4a-ea7f-92ea4c6ec075"
      },
      "execution_count": null,
      "outputs": [
        {
          "output_type": "stream",
          "name": "stdout",
          "text": [
            "Modelo KNN: Média=0.803523 | Desvio padrão=0.028271\n"
          ]
        },
        {
          "output_type": "display_data",
          "data": {
            "text/plain": [
              "<Figure size 1000x800 with 1 Axes>"
            ],
            "image/png": "[encoded data removed]"
          },
          "metadata": {}
        },
        {
          "output_type": "stream",
          "name": "stdout",
          "text": [
            "Acurácia do modelo:  0.7954545454545454\n"
          ]
        }
      ]
    },
    {
      "cell_type": "markdown",
      "source": [
        "Utilizando todas as configurações padrão do algoritmo KNN, foi possível obter uma acurácia de 79,5%. Esse resultado pode ser considerado satisfatório para uma modelagem inicial, pois indica que o modelo possui um desempenho consistente na classificação do problema. No entanto, dependendo da aplicação e das demandas específicas do sistema, uma acurácia ainda maior pode ser necessária para garantir maior confiabilidade. Assim, com o objetivo de melhorar esse desempenho, será realizada a seguir uma busca e otimização dos hiperparâmetros do modelo KNN, explorando diferentes configurações para maximizar sua precisão.\n",
        "\n",
        "Para aprimorar o desempenho do modelo, foi realizada uma otimização dos hiperparâmetros utilizando a técnica de *GridSearch*. Essa abordagem explorou diferentes combinações de parâmetros, incluindo o método de normalização dos dados (*StandardScaler* e *MinMaxScaler*), a quantidade de vizinhos (k), os pesos atribuídos aos vizinhos (uniforme ou baseado na distância) e a métrica de distância."
      ],
      "metadata": {
        "id": "V-t-wm9ZW92A"
      }
    },
    {
      "cell_type": "code",
      "source": [
        "# OBS: CÉLULA COM TEMPO DE EXECUÇÃO EM TORNO DE 1 MINUTO\n",
        "# --------------------------------------------------------\n",
        "\n",
        "# Configuração de pipeline\n",
        "pipeline = Pipeline([\n",
        "    (\"scaler\", StandardScaler()),  # Placeholder para o scaler\n",
        "    (\"knn\", KNeighborsClassifier())  # Modelo KNN\n",
        "])\n",
        "\n",
        "# Parâmetros do algoritmo KNN\n",
        "gridParams = {\n",
        "    \"scaler\": [StandardScaler(), MinMaxScaler()],  # Normalizações que serão testadas\n",
        "    \"knn__n_neighbors\": [3, 5, 7, 9, 11, 13, 15, 17, 19, 21, 23, 25], # Número de vizinhos\n",
        "    \"knn__weights\": [\"uniform\", \"distance\"],  # Tipo de ponderação\n",
        "    \"knn__metric\": [\"euclidean\", \"manhattan\", \"minkowski\"]  # Métrica de distância\n",
        "}\n",
        "\n",
        "# Configuração da validação cruzada com 10 folds\n",
        "kFolds = GenerateKFolds(numFolds, randomSeed)\n",
        "\n",
        "# Configuração do GridSearchCV\n",
        "gridSearch = GridSearchCV(\n",
        "    estimator=pipeline,\n",
        "    param_grid=gridParams,\n",
        "    scoring=scoringMetric,\n",
        "    cv=kFolds,\n",
        "    n_jobs=-1\n",
        ")\n",
        "\n",
        "# Treinamento\n",
        "gridSearch.fit(X_train, Y_train)\n",
        "\n",
        "# Resultados\n",
        "print(f\"Melhores hiperparâmetros: {gridSearch.best_params_}\")\n",
        "print(f\"Melhor acurácia: {gridSearch.best_score_:.2%}\")"
      ],
      "metadata": {
        "colab": {
          "base_uri": "https://localhost:8080/"
        },
        "id": "_FJxlQFHdfoN",
        "outputId": "b1d1f389-c879-448b-de21-75b1a78b6f29"
      },
      "execution_count": null,
      "outputs": [
        {
          "output_type": "stream",
          "name": "stdout",
          "text": [
            "Melhores hiperparâmetros: {'knn__metric': 'manhattan', 'knn__n_neighbors': 5, 'knn__weights': 'distance', 'scaler': StandardScaler()}\n",
            "Melhor acurácia: 85.97%\n"
          ]
        }
      ]
    },
    {
      "cell_type": "code",
      "source": [
        "# Criação de instância do KNN com os parâmetros otimizados\n",
        "optmized_KNN_model = KNeighborsClassifier(n_neighbors=5, weights=\"distance\", metric=\"manhattan\")\n",
        "\n",
        "# Treinamento do modelo KNN otimizado\n",
        "TrainModel(optmized_KNN_model, X_train_scaled, Y_train, X_test_scaled, Y_test)"
      ],
      "metadata": {
        "colab": {
          "base_uri": "https://localhost:8080/"
        },
        "id": "0PuothAYho8q",
        "outputId": "0b44bf8f-b1e7-41cb-d80c-be89af123fa2"
      },
      "execution_count": null,
      "outputs": [
        {
          "output_type": "stream",
          "name": "stdout",
          "text": [
            "Acurácia do modelo:  0.8428030303030303\n"
          ]
        }
      ]
    },
    {
      "cell_type": "markdown",
      "source": [
        "Como resultado, constatou-se que a melhor configuração para o problema foi alcançada utilizando a normalização *StandardScaler*, com 5 vizinhos, pesos baseados na distância e a métrica de Manhattan. Com esse modelo otimizado, o treinamento foi realizado, alcançando uma acurácia de 84%. Esse resultado representa uma melhoria razoável em relação ao modelo inicial, demonstrando a eficácia das metodologias de otimização empregadas."
      ],
      "metadata": {
        "id": "ElXrDclTB_Wf"
      }
    },
    {
      "cell_type": "markdown",
      "source": [
        "## 5.2 Algoritmo Nayve-Bayes\n",
        "\n",
        "O algoritmo Naive Bayes é amplamente utilizado para problemas de classificação devido à sua simplicidade e eficiência, especialmente em casos com conjuntos de dados grandes ou de alta dimensionalidade. Baseado no teorema de Bayes, ele faz a suposição de independência condicional entre as características, o que, apesar de simplificar o problema, muitas vezes resulta em desempenho competitivo.\n",
        "\n",
        "Além disso, ele é robusto para dados categóricos e numéricos e é particularmente eficaz em problemas onde as classes são bem definidas e balanceadas, como classificação de textos e detecção de spam.\n",
        "\n"
      ],
      "metadata": {
        "id": "evgNeEsffmm7"
      }
    },
    {
      "cell_type": "code",
      "source": [
        "# Instanciando o modelo Naive-Bayes Gaussiano\n",
        "naive_bayes_model = GaussianNB()\n",
        "\n",
        "# Validação cruzada\n",
        "ExecuteCrossValidation(\"Nayve-Bayes\", naive_bayes_model, X_train, Y_train, numFolds, randomSeed)\n",
        "\n",
        "# Treinamento do modelo\n",
        "TrainModel(naive_bayes_model, X_train, Y_train, X_test, Y_test)"
      ],
      "metadata": {
        "colab": {
          "base_uri": "https://localhost:8080/",
          "height": 753
        },
        "id": "OTftO-p-ka9-",
        "outputId": "c5adc319-766c-4b8a-b3e7-85ebb3bff828"
      },
      "execution_count": null,
      "outputs": [
        {
          "output_type": "stream",
          "name": "stdout",
          "text": [
            "Modelo Nayve-Bayes: Média=0.549634 | Desvio padrão=0.045942\n"
          ]
        },
        {
          "output_type": "display_data",
          "data": {
            "text/plain": [
              "<Figure size 1000x800 with 1 Axes>"
            ],
            "image/png": "[encoded data removed]"
          },
          "metadata": {}
        },
        {
          "output_type": "stream",
          "name": "stdout",
          "text": [
            "Acurácia do modelo:  0.5643939393939394\n"
          ]
        }
      ]
    },
    {
      "cell_type": "markdown",
      "source": [
        "Ao treinar um modelo utilizando este algoritmo obteve-se uma acurácia de 56%, sugerindo que o modelo não está se ajustando bem ao conjunto de dados. Esse desempenho pode ser devido a vários fatores, especialmente porque o Naive-Bayes faz suposições fortes sobre as distribuições de dados (como a independência entre as variáveis e distribuições normais para atributos numéricos no caso do GaussianNB)."
      ],
      "metadata": {
        "id": "wlU6buDRoLW5"
      }
    },
    {
      "cell_type": "markdown",
      "source": [
        "## 5.3 Algoritmo SVM\n",
        "\n",
        "O algoritmo Support Vector Machine (SVM) é uma técnica eficiente para problemas de classificação devido à sua capacidade de encontrar a melhor fronteira de separação entre classes, maximizando a margem entre elas. O SVM é robusto, funciona bem em espaços de alta dimensionalidade e pode lidar com dados não lineares através do uso de kernels, como o kernel radial (RBF).\n",
        "\n",
        "Assim como foi realizado para o algoritmo KNN, também é fundamental normalizar as entradas de treino e teste ao utilizar o SVM. Isso ocorre porque o SVM é sensível à escala dos atributos, especialmente ao considerar o cálculo de distâncias e margens entre as classes."
      ],
      "metadata": {
        "id": "US2GciI_fsI4"
      }
    },
    {
      "cell_type": "code",
      "source": [
        "# Normalizando os dados com StandardScaler\n",
        "scaler = StandardScaler()\n",
        "X_train_scaled = scaler.fit_transform(X_train)\n",
        "X_test_scaled = scaler.transform(X_test)\n",
        "\n",
        "# Instanciando o modelo SVM\n",
        "svmModel = SVC()\n",
        "\n",
        "# Validação cruzada\n",
        "ExecuteCrossValidation(\"SVM\", svmModel, X_train_scaled, Y_train, numFolds, randomSeed)\n",
        "\n",
        "# Treinamento do modelo\n",
        "TrainModel(svmModel, X_train_scaled, Y_train, X_test_scaled, Y_test)"
      ],
      "metadata": {
        "colab": {
          "base_uri": "https://localhost:8080/",
          "height": 753
        },
        "id": "97dWU6dDnOgW",
        "outputId": "6484604d-ae69-4356-e2b1-bdc34b4a10c2"
      },
      "execution_count": null,
      "outputs": [
        {
          "output_type": "stream",
          "name": "stdout",
          "text": [
            "Modelo SVM: Média=0.843321 | Desvio padrão=0.023520\n"
          ]
        },
        {
          "output_type": "display_data",
          "data": {
            "text/plain": [
              "<Figure size 1000x800 with 1 Axes>"
            ],
            "image/png": "[encoded data removed]"
          },
          "metadata": {}
        },
        {
          "output_type": "stream",
          "name": "stdout",
          "text": [
            "Acurácia do modelo:  0.8371212121212122\n"
          ]
        }
      ]
    },
    {
      "cell_type": "markdown",
      "source": [
        "Utilizando o modelo SVM com suas configurações padrão, obteve-se uma acurácia de 83,7%, um desempenho próximo ao do modelo KNN otimizado. Diante desse cenário positivo, decidiu-se realizar a otimização dos hiperparâmetros do SVM da mesma forma que foi feito com o modelo KNN, com o objetivo de explorar possíveis melhorias no desempenho e identificar a melhor configuração para resolver o problema de classificação com maior precisão."
      ],
      "metadata": {
        "id": "ifsCMb5brJ19"
      }
    },
    {
      "cell_type": "code",
      "source": [
        "# OBS: CÉLULA COM TEMPO DE EXECUÇÃO EM TORNO DE 2 MINUTOS\n",
        "# --------------------------------------------------------\n",
        "\n",
        "# Configuração do pipeline\n",
        "pipeline = Pipeline([\n",
        "    (\"scaler\", StandardScaler()),  # Placeholder para o scaler\n",
        "    (\"svm\", SVC())  # Modelo SVM\n",
        "])\n",
        "\n",
        "# Parâmetros do algoritmo SVM\n",
        "gridParams = {\n",
        "    \"scaler\": [StandardScaler(), MinMaxScaler()],  # Normalizações que serão testadas\n",
        "    \"svm__C\": [0.1, 1, 10, 100],  # Parâmetro de regularização\n",
        "    \"svm__kernel\": [\"linear\", \"rbf\", \"poly\", \"sigmoid\"],  # Tipos de kernel\n",
        "    \"svm__gamma\": [\"scale\", \"auto\"]  # Parâmetro de ajuste da influência dos vizinhos\n",
        "}\n",
        "\n",
        "# Configuração da validação cruzada com 10 folds\n",
        "kFolds = GenerateKFolds(numFolds, randomSeed)\n",
        "\n",
        "# Configuração do GridSearchCV\n",
        "gridSearch = GridSearchCV(\n",
        "    estimator=pipeline,\n",
        "    param_grid=gridParams,\n",
        "    scoring=scoringMetric,\n",
        "    cv=kFolds,\n",
        "    n_jobs=-1\n",
        ")\n",
        "\n",
        "# Treinamento\n",
        "gridSearch.fit(X_train, Y_train)\n",
        "\n",
        "# Resultados\n",
        "print(f\"Melhores hiperparâmetros: {gridSearch.best_params_}\")\n",
        "print(f\"Melhor acurácia: {gridSearch.best_score_:.2%}\")"
      ],
      "metadata": {
        "colab": {
          "base_uri": "https://localhost:8080/"
        },
        "id": "6cJfU1LKrmTa",
        "outputId": "de4230be-dc2e-4e2b-a2bb-c3daac52ba48"
      },
      "execution_count": null,
      "outputs": [
        {
          "output_type": "stream",
          "name": "stdout",
          "text": [
            "Melhores hiperparâmetros: {'scaler': StandardScaler(), 'svm__C': 100, 'svm__gamma': 'scale', 'svm__kernel': 'linear'}\n",
            "Melhor acurácia: 96.08%\n"
          ]
        }
      ]
    },
    {
      "cell_type": "code",
      "source": [
        "# Criação de instância do SVM com os parâmetros otimizados\n",
        "optmized_SVM_model = SVC(kernel=\"linear\", C=100, gamma=\"scale\")\n",
        "\n",
        "# Treinamento do modelo SVM otimizado\n",
        "TrainModel(optmized_SVM_model, X_train_scaled, Y_train, X_test_scaled, Y_test)"
      ],
      "metadata": {
        "colab": {
          "base_uri": "https://localhost:8080/"
        },
        "id": "SyUMm1YOtEYE",
        "outputId": "685aa258-4017-4660-e2b0-6145fbbca39e"
      },
      "execution_count": null,
      "outputs": [
        {
          "output_type": "stream",
          "name": "stdout",
          "text": [
            "Acurácia do modelo:  0.9734848484848485\n"
          ]
        }
      ]
    },
    {
      "cell_type": "markdown",
      "source": [
        "Após a otimização dos hiperparâmetros utilizando *GridSearch*, obteve-se uma acurácia de 96% com os melhores parâmetros sendo: C=100, kernel linear, gamma=\"scale\", e normalização com *StandardScaler*. Ao treinar o modelo SVM com esses parâmetros e testá-lo no conjunto de dados de teste, a acurácia foi de 97%, o que demonstra uma excelente performance. Esses resultados mostram que o método SVM foi o que melhor se adaptou aos dados do problema, destacando também o impacto significativo que as metodologias de otimização de hiperparâmetros têm na melhora de modelos preditivos."
      ],
      "metadata": {
        "id": "_4QDKYM8vMx4"
      }
    },
    {
      "cell_type": "markdown",
      "source": [
        "## 5.4 Árvore de decisão\n",
        "\n",
        "O modelo de árvore de decisão cria uma estrutura em forma de árvore onde cada nó representa uma decisão com base nos atributos do dataset, tornando-o eficiente, fácil de interpretar e pouco dependente de pré-processamento. É especialmente eficaz em problemas de classificação por lidar com dados numéricos e categóricos e modelar relacionamentos não lineares.\n",
        "\n",
        "Embora o algoritmo de árvore de decisão não exija normalização dos dados para funcionar corretamente, optou-se por realizar a normalização para manter consistência no pré-processamento dos dados aplicados aos outros modelos utilizados no estudo."
      ],
      "metadata": {
        "id": "xZS4qt3Iaddg"
      }
    },
    {
      "cell_type": "code",
      "source": [
        "# Instanciando o modelo de Árvore de decisão\n",
        "decisionTreeModel = DecisionTreeClassifier()\n",
        "\n",
        "# Validação cruzada\n",
        "ExecuteCrossValidation(\"Árvore de decisão\",\n",
        "                       decisionTreeModel,\n",
        "                       X_train_scaled,\n",
        "                       Y_train,\n",
        "                       numFolds,\n",
        "                       randomSeed)\n",
        "\n",
        "# Treinamento do modelo\n",
        "TrainModel(decisionTreeModel, X_train_scaled, Y_train, X_test_scaled, Y_test)"
      ],
      "metadata": {
        "colab": {
          "base_uri": "https://localhost:8080/",
          "height": 756
        },
        "id": "vNEFlxGya4CA",
        "outputId": "e014fd0c-0ac1-4b7c-ccdf-f1c3914f60af"
      },
      "execution_count": null,
      "outputs": [
        {
          "output_type": "stream",
          "name": "stdout",
          "text": [
            "Modelo Árvore de decisão: Média=0.926109 | Desvio padrão=0.016644\n"
          ]
        },
        {
          "output_type": "display_data",
          "data": {
            "text/plain": [
              "<Figure size 1000x800 with 1 Axes>"
            ],
            "image/png": "[encoded data removed]"
          },
          "metadata": {}
        },
        {
          "output_type": "stream",
          "name": "stdout",
          "text": [
            "Acurácia do modelo:  0.9185606060606061\n"
          ]
        }
      ]
    },
    {
      "cell_type": "markdown",
      "source": [
        "Como é possível observar na imagem acima, o algoritmo de árvore de decisão foi o que apresentou a melhor acurácia com suas configurações padrão, atingindo 92%. Esse desempenho se deve ao fato de que as árvores de decisão são eficientes para capturar relacionamentos não lineares entre as variáveis e lidar com interações complexas, características comuns em problemas de classificação como o de obesidade analisado neste trabalho.\n",
        "\n",
        "Assim como foi realizado para os outros modelos, buscou-se otimizar os hiperparâmetros do algoritmo de árvore de decisão para buscar resultados ainda melhores. Através da técnica de *GridSearch*, foram testadas diferentes combinações de hiperparâmetros com o objetivo de encontrar a melhor configuração para o problema de classificação em questão. Os principais hiperparâmetros considerados foram a profundidade máxima da árvore (max_depth), o número mínimo de amostras para dividir um nó (min_samples_split) e o número mínimo de amostras em um nó folha (min_samples_leaf)."
      ],
      "metadata": {
        "id": "ZIAO232KdFcL"
      }
    },
    {
      "cell_type": "code",
      "source": [
        "# Configuração de pipeline com normalização e modelo de árvore de decisão\n",
        "pipeline = Pipeline([\n",
        "    (\"scaler\", StandardScaler()),\n",
        "    (\"dt\", DecisionTreeClassifier(random_state=randomSeed))\n",
        "])\n",
        "\n",
        "# Parâmetros para otimização no GridSearch\n",
        "gridParameters = {\n",
        "    \"dt__max_depth\": [3, 5, 7, 10],  # Testando diferentes profundidades da árvore\n",
        "    \"dt__min_samples_split\": [2, 3, 4, 5, 6, 7, 8, 9, 10],  # Testando diferentes quantidades mínimas de amostras para dividir um nó\n",
        "    \"dt__min_samples_leaf\": [1, 2, 5, 10]  # Testando diferentes quantidades mínimas de amostras em uma folha\n",
        "}\n",
        "\n",
        "# Configuração da validação cruzada com 10 folds\n",
        "kFolds = GenerateKFolds(numFolds, randomSeed)\n",
        "\n",
        "# Configuração do GridSearchCV\n",
        "gridSearch = GridSearchCV(\n",
        "    estimator=pipeline,\n",
        "    param_grid=gridParameters,\n",
        "    scoring=scoringMetric,\n",
        "    cv=kFolds,\n",
        "    n_jobs=-1\n",
        ")\n",
        "\n",
        "# Execução do GridSearch\n",
        "gridSearch.fit(X_train, Y_train)\n",
        "\n",
        "# Resultados\n",
        "print(f\"Melhores hiperparâmetros: {gridSearch.best_params_}\")\n",
        "print(f\"Melhor acurácia: {gridSearch.best_score_:.2%}\")"
      ],
      "metadata": {
        "colab": {
          "base_uri": "https://localhost:8080/"
        },
        "id": "VV6uQYb1dnQv",
        "outputId": "71a43de6-d69d-40f1-9195-bd4e5128a2fa"
      },
      "execution_count": null,
      "outputs": [
        {
          "output_type": "stream",
          "name": "stdout",
          "text": [
            "Melhores hiperparâmetros: {'dt__max_depth': 10, 'dt__min_samples_leaf': 1, 'dt__min_samples_split': 2}\n",
            "Melhor acurácia: 93.37%\n"
          ]
        }
      ]
    },
    {
      "cell_type": "markdown",
      "source": [
        "\n",
        "A configuração ideal encontrada para a árvore de decisão foi profundidade de 10, número mínimo de amostras para divisão de nós = 2 e número mínimo de amostras em um nó folha = 1."
      ],
      "metadata": {
        "id": "vsPkPDCmh-N9"
      }
    },
    {
      "cell_type": "code",
      "source": [
        "# Criação de instância da árvore de decisão com os parâmetros otimizados\n",
        "optimizedDecisionTree = DecisionTreeClassifier(max_depth=10,\n",
        "                                               min_samples_split=2,\n",
        "                                               min_samples_leaf=1,\n",
        "                                               random_state=randomSeed)\n",
        "\n",
        "# Treinamento do modelo árvore de decisão otimizado\n",
        "TrainModel(optimizedDecisionTree, X_train_scaled, Y_train, X_test_scaled, Y_test)"
      ],
      "metadata": {
        "colab": {
          "base_uri": "https://localhost:8080/"
        },
        "id": "7UQNnLlGegR7",
        "outputId": "f401862a-7e4a-4597-e16c-ae42e8097308"
      },
      "execution_count": null,
      "outputs": [
        {
          "output_type": "stream",
          "name": "stdout",
          "text": [
            "Acurácia do modelo:  0.9166666666666666\n"
          ]
        }
      ]
    },
    {
      "cell_type": "markdown",
      "source": [
        "Observou-se que, após a otimização dos hiperparâmetros da árvore de decisão utilizando *GridSearch*, a acurácia não apresentou ganhos significativos em relação às configurações padrão, chegando até a ficar um pouco inferior. Isso provavelmente indica que as configurações padrão do modelo já estavam bem ajustadas e se adequavam de forma eficiente ao problema, capturando os padrões necessários no conjunto de dados sem a necessidade de ajustes adicionais."
      ],
      "metadata": {
        "id": "5blcShv7hjYj"
      }
    },
    {
      "cell_type": "markdown",
      "source": [
        "## 5.5 Ensembles\n",
        "\n",
        "Ensembles são métodos que combinam múltiplos modelos individuais para formar uma única previsão mais robusta e precisa. A ideia principal por trás dessa abordagem é que a combinação de diferentes perspectivas e especializações dos modelos pode compensar as fraquezas individuais de cada um, resultando em uma maior estabilidade e melhor desempenho geral.\n",
        "\n",
        "Apesar de já se ter alcançado um resultado extremamente satisfatório com o modelo SVM otimizado, decidiu-se explorar a implementação de duas técnicas diferentes de ensembles — *Bagging, Boosting* — para avaliar se é possível obter um desempenho ainda melhor no contexto do problema de classificação da obesidade."
      ],
      "metadata": {
        "id": "y3tq2CYifwOy"
      }
    },
    {
      "cell_type": "markdown",
      "source": [
        "### 5.5.1 Ensemble Bagging\n",
        "\n",
        "O ensemble do tipo *Bagging* (*Bootstrap Aggregating*) é uma técnica que combina múltiplos modelos de aprendizado base, treinados em subconjuntos aleatórios do dataset original gerados por amostragem com reposição. Essa abordagem ajuda a reduzir o *overfitting* e melhorar a estabilidade e a acurácia do modelo final.\n",
        "\n",
        "Neste trabalho, decidiu-se utilizar o modelo KNN otimizado como modelo base para o ensemble Bagging, com o objetivo de verificar se é possível alcançar uma acurácia superior aos 84% obtidos anteriormente no item 5.1.\n",
        "\n",
        "Para maximizar o desempenho do ensemble *Bagging*, foi realizada a otimização de seus hiperparâmetros utilizando a técnica de *GridSearch*. O objetivo foi identificar a melhor configuração possível para o modelo, considerando os seguintes parâmetros:\n",
        "\n",
        "* **Número de modelos (n_estimators)**:  determina quantos classificadores individuais serão usados no ensemble, afetando diretamente a robustez do modelo final;\n",
        "\n",
        "* **Número de amostras (max_samples)**:  define a quantidade de dados de treino amostrados para cada modelo base dentro do ensemble, influenciando a diversidade entre os modelos.;\n",
        "\n",
        "* **Número de features (max_features)**: limita a quantidade de variáveis que cada modelo base utiliza, impactando na variabilidade e capacidade de generalização do ensemble."
      ],
      "metadata": {
        "id": "K1glt81WHx7A"
      }
    },
    {
      "cell_type": "code",
      "source": [
        "# OBS: CÉLULA COM TEMPO DE EXECUÇÃO EM TORNO DE 1 MINUTO\n",
        "# --------------------------------------------------------\n",
        "\n",
        "# ===============================================\n",
        "# Implementação e Otimização de ensemble Bagging\n",
        "# ===============================================\n",
        "\n",
        "# Configuração do pipeline para incluir normalização e modelo Bagging com KNN\n",
        "optimizedKNN = KNeighborsClassifier(n_neighbors=5, weights=\"distance\", metric=\"manhattan\")\n",
        "\n",
        "pipeline = Pipeline([\n",
        "    (\"scaler\", StandardScaler()),\n",
        "    (\"bagging\", BaggingClassifier(estimator=optimizedKNN))\n",
        "])\n",
        "\n",
        "# Definição dos hiperparâmetros para o GridSearch\n",
        "gridParameters = {\n",
        "    \"bagging__n_estimators\": [10, 20, 50],  # Número de modelos base\n",
        "    \"bagging__max_samples\": [0.5, 0.8, 1.0],  # Fração de amostras do dataset\n",
        "    \"bagging__max_features\": [0.5, 0.8, 1.0],  # Fração de atributos do dataset\n",
        "}\n",
        "\n",
        "# Configuração de validação cruzada\n",
        "kFolds = GenerateKFolds(numFolds, randomSeed)\n",
        "\n",
        "# Configuração do GridSearch\n",
        "gridSearch = GridSearchCV(\n",
        "    estimator=pipeline,\n",
        "    param_grid=gridParameters,\n",
        "    scoring=scoringMetric,\n",
        "    cv=kFolds,\n",
        "    n_jobs=-1\n",
        ")\n",
        "\n",
        "# Treinamento\n",
        "gridSearch.fit(X_train, Y_train)\n",
        "\n",
        "# Resultados\n",
        "print(f\"Melhores parâmetros: {gridSearch.best_params_}\")\n",
        "print(f\"Melhor acurácia: {gridSearch.best_score_:.2%}\")"
      ],
      "metadata": {
        "colab": {
          "base_uri": "https://localhost:8080/"
        },
        "id": "_p3aEE6AKVch",
        "outputId": "28a40977-c4f8-4ba1-d655-cf07ac9fe430"
      },
      "execution_count": null,
      "outputs": [
        {
          "output_type": "stream",
          "name": "stdout",
          "text": [
            "Melhores parâmetros: {'bagging__max_features': 0.5, 'bagging__max_samples': 1.0, 'bagging__n_estimators': 50}\n",
            "Melhor acurácia: 90.40%\n"
          ]
        }
      ]
    },
    {
      "cell_type": "markdown",
      "source": [
        "Como resultado, obteve-se que a melhor configuração inclui a utilização de 50% das *features*, 100% das amostras e 50 estimadores base do tipo KNN. Treinando o ensemble Bagging com esses parâmetros otimizados, foi alcançada uma acurácia próxima de 90%. Esse resultado representa um ganho significativo e demonstra a eficácia do uso de técnicas de ensemble para melhorar o desempenho do modelo no contexto do problema."
      ],
      "metadata": {
        "id": "UIppHQAJNLX2"
      }
    },
    {
      "cell_type": "code",
      "source": [
        "# Ensemble Bagging otimizado\n",
        "optimizedBaggingModel = BaggingClassifier(\n",
        "    estimator=optimizedKNN,  # Modelo base\n",
        "    n_estimators=50,  # Número de modelos no ensemble\n",
        "    max_samples=1.0,  # Porcentagem de amostras usadas em cada subset (80% neste caso)\n",
        "    max_features=0.5,  # Todas as features disponíveis para cada subset\n",
        "    random_state=randomSeed,\n",
        "    n_jobs=-1\n",
        ")\n",
        "\n",
        "# Treinamento do modelo Bagging\n",
        "optimizedBaggingModel.fit(X_train_scaled, Y_train)\n",
        "\n",
        "# Predição nos dados de teste\n",
        "yPred = optimizedBaggingModel.predict(X_test_scaled)\n",
        "\n",
        "# Avaliação do desempenho\n",
        "accuracy = accuracy_score(Y_test, yPred)\n",
        "print(f\"Acurácia do modelo Bagging otimizado: {accuracy:.2%}\")"
      ],
      "metadata": {
        "colab": {
          "base_uri": "https://localhost:8080/"
        },
        "id": "gMsyyG2AFrcj",
        "outputId": "16507cea-a6ef-4317-82dc-865426b2e169"
      },
      "execution_count": null,
      "outputs": [
        {
          "output_type": "stream",
          "name": "stdout",
          "text": [
            "Acurácia do modelo Bagging otimizado: 89.39%\n"
          ]
        }
      ]
    },
    {
      "cell_type": "markdown",
      "source": [
        "### 5.5.2 Ensemble Boosting\n",
        "\n",
        "O ensemble do tipo *boosting* é uma técnica que combina vários modelos sequencialmente, onde cada modelo tenta corrigir os erros do modelo anterior. Ao contrário do *bagging*, que treina os modelos de forma independente, no *boosting*, os modelos são treinados em sequência e ajustam-se com base nas amostras mal classificadas pelos modelos anteriores. Isso permite que o modelo se concentre nas instâncias mais difíceis do conjunto de dados.\n",
        "\n",
        "As principais vantagens do *boosting* incluem maior precisão, especialmente em cenários onde a complexidade dos dados é alta, e a capacidade de lidar com desequilíbrios entre classes, reduzindo o viés do modelo. Por essas características, o *boosting* é amplamente utilizado para problemas de classificação e regressão.\n",
        "\n",
        "Neste trabalho optou-se pela utilização do *Gradient Boosting*. Este ensemble utiliza, por padrão, **árvores de decisão** como seu modelo base. Essas árvores funcionam como aprendizes fracos, ou seja, cada árvore é construída sequencialmente para corrigir os erros cometidos pelas árvores anteriores. O objetivo é ajustar iterativamente os erros residuais do modelo, otimizando o desempenho ao longo das iterações.\n",
        "\n",
        "Assim como foi realizado para o ensemble *Bagging*, utilizou-se a técnica de *GridSearch* para otimizar os hiperparâmetros do ensemble *Gradient Boosting*. Os hiperparâmetros considerados foram:\n",
        "\n",
        "* **Número de árvores (n_estimators)**: determina quantos modelos base serão usados no ensemble, influenciando diretamente a capacidade de generalização do modelo;\n",
        "\n",
        "* **Taxa de aprendizado (learning_rate)**: controla a contribuição de cada árvore ao modelo final; valores menores tendem a melhorar a generalização, mas exigem mais árvores para se obter bom desempenho;\n",
        "\n",
        "* **Profundidade das árvores (max_depth)**: define a complexidade de cada árvore individual, impactando diretamente na capacidade do modelo de capturar padrões dos dados, porém, aumentando o risco de overfitting se for muito alta."
      ],
      "metadata": {
        "id": "15NTHRirH1wC"
      }
    },
    {
      "cell_type": "code",
      "source": [
        "# OBS: CÉLULA COM TEMPO DE EXECUÇÃO EM TORNO DE 7 MINUTOS\n",
        "# --------------------------------------------------------\n",
        "\n",
        "# =================================================\n",
        "# Implementação e Otimização de ensemble Boosting\n",
        "# =================================================\n",
        "\n",
        "# Definição dos hiperparâmetros para o GridSearch\n",
        "gridParameters = {\n",
        "    'n_estimators': [10, 20, 50], # Número de modelos base\n",
        "    'learning_rate': [0.01, 0.1, 0.2], # Taxa de aprendizado\n",
        "    'max_depth': [3, 5, 7], # Profundidade das árvores\n",
        "}\n",
        "\n",
        "# Configuração de validação cruzada\n",
        "kFolds = GenerateKFolds(numFolds, randomSeed)\n",
        "\n",
        "# Configuração do GridSearch\n",
        "gridSearch = GridSearchCV(\n",
        "    estimator=GradientBoostingClassifier(),\n",
        "    param_grid=gridParameters,\n",
        "    scoring=scoringMetric,\n",
        "    cv=kFolds,\n",
        "    n_jobs=-1\n",
        ")\n",
        "\n",
        "# Treinamento\n",
        "gridSearch.fit(X_train, Y_train)\n",
        "\n",
        "# Resultados da busca\n",
        "print(f\"Melhores parâmetros: {gridSearch.best_params_}\")\n",
        "print(f\"Melhor acurácia: {gridSearch.best_score_:.2f}\")"
      ],
      "metadata": {
        "colab": {
          "base_uri": "https://localhost:8080/"
        },
        "id": "EVaLL9UZFr0J",
        "outputId": "0c9b0805-6f1d-4b1e-a19a-9330ebaab766"
      },
      "execution_count": null,
      "outputs": [
        {
          "output_type": "stream",
          "name": "stdout",
          "text": [
            "Melhores parâmetros: {'learning_rate': 0.2, 'max_depth': 7, 'n_estimators': 50}\n",
            "Melhor acurácia: 0.97\n"
          ]
        }
      ]
    },
    {
      "cell_type": "markdown",
      "source": [
        "A melhor configuração de hiperparâmetros obtida para o ensemble com *Gradient Boosting* foi alcançada com uma taxa de aprendizado de 0,2, uma profundidade de camadas de 7 e um número de modelos (número de árvores) igual a 50."
      ],
      "metadata": {
        "id": "xnuOBUJiWPYb"
      }
    },
    {
      "cell_type": "code",
      "source": [
        "# Ensemble Boosting otimizado\n",
        "optimizedBoostingModel = GradientBoostingClassifier(\n",
        "    n_estimators=50,\n",
        "    learning_rate=0.2,\n",
        "    max_depth=7,\n",
        "    random_state=randomSeed\n",
        ")\n",
        "\n",
        "# Treinamento do modelo Bagging\n",
        "optimizedBoostingModel.fit(X_train, Y_train)\n",
        "\n",
        "# Predição nos dados de teste\n",
        "yPred = optimizedBoostingModel.predict(X_test)\n",
        "\n",
        "# Avaliação do desempenho\n",
        "accuracy = accuracy_score(Y_test, yPred)\n",
        "print(f\"Acurácia do modelo Bagging otimizado: {accuracy:.2%}\")"
      ],
      "metadata": {
        "colab": {
          "base_uri": "https://localhost:8080/"
        },
        "id": "q0BqZXUOSvJ1",
        "outputId": "27bd0a06-ecac-4bb5-878d-6a6eaac8a42c"
      },
      "execution_count": null,
      "outputs": [
        {
          "output_type": "stream",
          "name": "stdout",
          "text": [
            "Acurácia do modelo Bagging otimizado: 95.45%\n"
          ]
        }
      ]
    },
    {
      "cell_type": "markdown",
      "source": [
        "Utilizando esses parâmetros otimizados, foi possível treinar um modelo de *Gradient Boosting* com desempenho excelente, alcançando uma acurácia de 95%. Este resultado é muito próximo da acurácia obtida com o modelo SVM otimizado, o que demonstra a relevância e eficácia do método de *Boosting* para o problema em questão."
      ],
      "metadata": {
        "id": "NMjpCSWZWRmn"
      }
    },
    {
      "cell_type": "markdown",
      "source": [
        "# **6. Considerações Finais**\n",
        "\n",
        "Neste trabalho, constatou-se que a experimentação com diferentes algoritmos de machine learning é essencial para resolver problemas do mundo real, uma vez que os dados podem apresentar padrões lineares ou não lineares. Cada algoritmo possui características distintas que o tornam mais ou menos adequado para diferentes cenários, evidenciando a importância de testar múltiplas abordagens para identificar aquela que melhor se adapta ao problema em questão.\n",
        "\n",
        "Outro fator importante observado foi a otimização de hiperparâmetros, cujo papel é fundamental para o desempenho dos algoritmos em problemas de machine learning. Devido à grande variabilidade e complexidade dos cenários do mundo real, ajustar os parâmetros de cada modelo é essencial para que ele se adapte da melhor forma ao problema em questão. Esse aspecto foi evidenciado ao se alcançar uma acurácia de até 97% com o modelo SVM otimizado. Em desafios reais, onde a acurácia pode ser um requisito crítico, buscar modelos otimizados torna-se uma abordagem valiosa para melhorar resultados e garantir maior confiabilidade no processo de tomada de decisão com base em machine learning.\n",
        "\n",
        "Buscando entender o motivo pelo qual o modelo SVM apresentou o melhor desempenho entre todos os algoritmos testados, observa-se que isso pode ser explicado pela sua capacidade de identificar fronteiras ótimas de decisão em espaços de alta dimensão, mesmo em casos onde os dados possuem padrões complexos. Além disso, a otimização de hiperparâmetros e a escolha de um kernel adequado foram fatores fundamentais para o bom desempenho do modelo. O SVM tende a se adaptar bem a cenários onde os dados possuem separação bem definida, o que provavelmente foi uma característica presente no problema analisado, justificando assim seu desempenho superior em comparação aos outros modelos testados.\n",
        "\n",
        "Por fim, o desenvolvimento deste trabalho foi uma experiência de grande aprendizado, proporcionando uma compreensão mais profunda sobre as técnicas de machine learning, otimização de hiperparâmetros e aplicação de ensembles. Embora não tenha sido realizado o fluxo completo de pré-processamento e análise exploratória, a integração desses processos representariam uma abordagem muito próxima dos desafios encontrados no mundo real. Essa perspectiva mostrou-se bastante enriquecedora, oferecendo uma visão prática e ampla sobre os desafios e as possibilidades da área de machine learning."
      ],
      "metadata": {
        "id": "ce7MqxUTV5al"
      }
    }
  ]
}